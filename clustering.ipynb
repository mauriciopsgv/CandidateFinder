{
 "cells": [
  {
   "cell_type": "code",
   "execution_count": 1,
   "metadata": {},
   "outputs": [],
   "source": [
    "import json\n",
    "import pandas as pd\n",
    "import numpy as np\n",
    "from sklearn.impute import SimpleImputer\n",
    "\n",
    "from ast import literal_eval\n",
    "from unidecode import unidecode"
   ]
  },
  {
   "cell_type": "code",
   "execution_count": 2,
   "metadata": {},
   "outputs": [
    {
     "data": {
      "text/plain": [
       "[{'id': 1,\n",
       "  'title': 'Candidato de Contabilidade',\n",
       "  'age': 49,\n",
       "  'location': 'Centro, Curitiba - PR',\n",
       "  'professional_goals_salary': '{\"max\": 0.0, \"min\": 0.0}',\n",
       "  'professional_goals_contract_type': None,\n",
       "  'professional_goals_working_hours': 'Período Integral',\n",
       "  'education': '[{\"dateEnd\": \"2003-11-01\", \"dateInit\": \"2003-02-01\", \"courseName\": \"Curso extra-curricular / Profissionalizante  em Contabilidade para executivos\", \"educationInstitutionName\": \"UNICENP em PR\"}, {\"dateEnd\": \"1989-12-01\", \"dateInit\": \"1985-02-01\", \"courseName\": \"Ensino Superior em Ciências contábeis\", \"educationInstitutionName\": \"FESP-Fundação de estudos Sociais do Parana em PR\"}, {\"dateEnd\": \"1984-11-01\", \"dateInit\": \"1982-02-01\", \"courseName\": \"Curso Técnico em Contabilidade\", \"educationInstitutionName\": \"CEPC-Centro de Estudos Profission.de Curitiba em PR\"}]',\n",
       "  'work_experience': '[{\"field\": \"Contábil, Finanças, Economia\", \"level\": null, \"title\": \"CONTADOR\", \"dateEnd\": \"2006-12-01\", \"dateInit\": \"2005-03-01\", \"position\": \"Contabilidade\", \"description\": \"\"}, {\"field\": \"Contábil, Finanças, Economia\", \"level\": null, \"title\": \"CONTADOR\", \"dateEnd\": \"2004-12-01\", \"dateInit\": \"2001-05-01\", \"position\": \"Contabilidade\", \"description\": \"\"}, {\"field\": \"Contábil, Finanças, Economia\", \"level\": null, \"title\": \"CONTADOR\", \"dateEnd\": \"2001-12-01\", \"dateInit\": \"1995-08-01\", \"position\": \"Contabilidade\", \"description\": \"\"}, {\"field\": \"Contábil, Finanças, Economia\", \"level\": null, \"title\": \"TÉCNICO CONTABIL\", \"dateEnd\": \"1995-06-01\", \"dateInit\": \"1990-04-01\", \"position\": \"Contabilidade\", \"description\": \"\"}, {\"field\": \"Contábil, Finanças, Economia\", \"level\": null, \"title\": \"SUB-CONTADOR\", \"dateEnd\": \"1990-02-01\", \"dateInit\": \"1987-01-01\", \"position\": \"Contabilidade\", \"description\": \"\"}]',\n",
       "  'language': '[{\"level\": \"Intermediário\", \"language\": \"Inglês\"}, {\"level\": \"Nativo\", \"language\": \"Português\"}, {\"level\": \"Básico\", \"language\": \"Espanhol\"}]',\n",
       "  'complementary_data': '{\"travel\": true, \"driving\": \"B\", \"vehicle\": \"Carro particular\", \"residence\": true}',\n",
       "  'sex': 'Não Especificado',\n",
       "  'marital_status': None},\n",
       " {'id': 2,\n",
       "  'title': 'Candidato de Zootecnia',\n",
       "  'age': 38,\n",
       "  'location': 'Santa Helena - PR',\n",
       "  'professional_goals_salary': '{\"max\": 0.0, \"min\": 0.0}',\n",
       "  'professional_goals_contract_type': None,\n",
       "  'professional_goals_working_hours': 'Período Integral',\n",
       "  'education': '[{\"dateEnd\": \"2005-12-01\", \"dateInit\": \"2001-02-01\", \"courseName\": \"Ensino Superior em Zootécnia\", \"educationInstitutionName\": \"Universidade Estadual do Oeste do Parana em PR\"}]',\n",
       "  'work_experience': '[{\"field\": \"Agricultura, Pecuária, Veterinária\", \"level\": null, \"title\": \"trainne\", \"dateEnd\": \"2007-09-01\", \"dateInit\": \"2006-09-01\", \"position\": \"Zootecnia\", \"description\": \"Trabalhei como lider na maternidade. Com aproximadamente 1500 matrizes. Foi um tempo maravilhoso onde aprendi muitas coisas, como  relacionamento pessoal, aplicabilidade para muita coisa que eu aprendi na faculdade, alem de ingles, cultura, etc.\"}]',\n",
       "  'language': '[{\"level\": \"Avançado\", \"language\": \"Inglês\"}, {\"level\": \"Nativo\", \"language\": \"Português\"}]',\n",
       "  'complementary_data': '{\"travel\": true, \"driving\": \"A\", \"vehicle\": \"Carro particular\", \"residence\": true}',\n",
       "  'sex': 'Não Especificado',\n",
       "  'marital_status': None}]"
      ]
     },
     "execution_count": 2,
     "metadata": {},
     "output_type": "execute_result"
    }
   ],
   "source": [
    "db_file = open('resume_base.json', 'rb')\n",
    "db = json.loads(db_file.read())\n",
    "db[0:2]"
   ]
  },
  {
   "cell_type": "code",
   "execution_count": 3,
   "metadata": {},
   "outputs": [],
   "source": [
    "original_raw_data = pd.DataFrame(db)\n",
    "raw_data = original_raw_data.copy()"
   ]
  },
  {
   "cell_type": "code",
   "execution_count": 15,
   "metadata": {},
   "outputs": [
    {
     "data": {
      "text/plain": [
       "['Candidato de mandrilagem']"
      ]
     },
     "execution_count": 15,
     "metadata": {},
     "output_type": "execute_result"
    }
   ],
   "source": [
    "[ s for s in raw_data['title'].unique() if 'mandrilagem' in s ]"
   ]
  },
  {
   "cell_type": "code",
   "execution_count": 21,
   "metadata": {},
   "outputs": [
    {
     "name": "stdout",
     "output_type": "stream",
     "text": [
      "fitted\n"
     ]
    }
   ],
   "source": [
    "from gensim.models import KeyedVectors\n",
    "\n",
    "model = KeyedVectors.load_word2vec_format('cbow_s50.txt')\n",
    "print('fitted')"
   ]
  },
  {
   "cell_type": "code",
   "execution_count": null,
   "metadata": {},
   "outputs": [],
   "source": [
    "# sanitizing texts"
   ]
  },
  {
   "cell_type": "code",
   "execution_count": 22,
   "metadata": {},
   "outputs": [],
   "source": [
    "#for i in raw_data['title'].unique():\n",
    "#    model.word_vec('museologia')\n",
    "\n",
    "def is_clean(word):\n",
    "    return word != '/' and len(word) > 2    \n",
    "    \n",
    "splitted_list = [ title.split(' ')[1:] for title in raw_data['title'].values ]\n",
    "final_list = [ [ i.lower() for i in title if is_clean(i)] if ( '/' in title or len(title) > 1 ) else [title[0].lower()] for title in splitted_list ]"
   ]
  },
  {
   "cell_type": "code",
   "execution_count": 29,
   "metadata": {},
   "outputs": [
    {
     "ename": "KeyError",
     "evalue": "\"word 'administraç��o' not in vocabulary\"",
     "output_type": "error",
     "traceback": [
      "\u001b[1;31m---------------------------------------------------------------------------\u001b[0m",
      "\u001b[1;31mKeyError\u001b[0m                                  Traceback (most recent call last)",
      "\u001b[1;32m<ipython-input-29-afc072b2f163>\u001b[0m in \u001b[0;36m<module>\u001b[1;34m()\u001b[0m\n\u001b[0;32m     25\u001b[0m         \u001b[1;32melif\u001b[0m \u001b[0mtest_word\u001b[0m \u001b[1;33m==\u001b[0m \u001b[1;34m'administração'\u001b[0m\u001b[1;33m:\u001b[0m\u001b[1;33m\u001b[0m\u001b[0m\n\u001b[0;32m     26\u001b[0m             \u001b[0mtest_word\u001b[0m \u001b[1;33m=\u001b[0m \u001b[1;34m'administração'\u001b[0m\u001b[1;33m\u001b[0m\u001b[0m\n\u001b[1;32m---> 27\u001b[1;33m         \u001b[0mmodel\u001b[0m\u001b[1;33m.\u001b[0m\u001b[0mword_vec\u001b[0m\u001b[1;33m(\u001b[0m\u001b[0mtest_word\u001b[0m\u001b[1;33m)\u001b[0m\u001b[1;33m\u001b[0m\u001b[0m\n\u001b[0m",
      "\u001b[1;32m~\\Anaconda3\\lib\\site-packages\\gensim\\models\\keyedvectors.py\u001b[0m in \u001b[0;36mword_vec\u001b[1;34m(self, word, use_norm)\u001b[0m\n\u001b[0;32m    273\u001b[0m                 \u001b[1;32mreturn\u001b[0m \u001b[0mself\u001b[0m\u001b[1;33m.\u001b[0m\u001b[0msyn0\u001b[0m\u001b[1;33m[\u001b[0m\u001b[0mself\u001b[0m\u001b[1;33m.\u001b[0m\u001b[0mvocab\u001b[0m\u001b[1;33m[\u001b[0m\u001b[0mword\u001b[0m\u001b[1;33m]\u001b[0m\u001b[1;33m.\u001b[0m\u001b[0mindex\u001b[0m\u001b[1;33m]\u001b[0m\u001b[1;33m\u001b[0m\u001b[0m\n\u001b[0;32m    274\u001b[0m         \u001b[1;32melse\u001b[0m\u001b[1;33m:\u001b[0m\u001b[1;33m\u001b[0m\u001b[0m\n\u001b[1;32m--> 275\u001b[1;33m             \u001b[1;32mraise\u001b[0m \u001b[0mKeyError\u001b[0m\u001b[1;33m(\u001b[0m\u001b[1;34m\"word '%s' not in vocabulary\"\u001b[0m \u001b[1;33m%\u001b[0m \u001b[0mword\u001b[0m\u001b[1;33m)\u001b[0m\u001b[1;33m\u001b[0m\u001b[0m\n\u001b[0m\u001b[0;32m    276\u001b[0m \u001b[1;33m\u001b[0m\u001b[0m\n\u001b[0;32m    277\u001b[0m     \u001b[1;32mdef\u001b[0m \u001b[0mmost_similar\u001b[0m\u001b[1;33m(\u001b[0m\u001b[0mself\u001b[0m\u001b[1;33m,\u001b[0m \u001b[0mpositive\u001b[0m\u001b[1;33m=\u001b[0m\u001b[1;33m[\u001b[0m\u001b[1;33m]\u001b[0m\u001b[1;33m,\u001b[0m \u001b[0mnegative\u001b[0m\u001b[1;33m=\u001b[0m\u001b[1;33m[\u001b[0m\u001b[1;33m]\u001b[0m\u001b[1;33m,\u001b[0m \u001b[0mtopn\u001b[0m\u001b[1;33m=\u001b[0m\u001b[1;36m10\u001b[0m\u001b[1;33m,\u001b[0m \u001b[0mrestrict_vocab\u001b[0m\u001b[1;33m=\u001b[0m\u001b[1;32mNone\u001b[0m\u001b[1;33m,\u001b[0m \u001b[0mindexer\u001b[0m\u001b[1;33m=\u001b[0m\u001b[1;32mNone\u001b[0m\u001b[1;33m)\u001b[0m\u001b[1;33m:\u001b[0m\u001b[1;33m\u001b[0m\u001b[0m\n",
      "\u001b[1;31mKeyError\u001b[0m: \"word 'administraç��o' not in vocabulary\""
     ]
    }
   ],
   "source": [
    "def clean_word(word):\n",
    "    bad_characters = [ '(', ')', ',']\n",
    "    for character in bad_characters:\n",
    "        if character in word:\n",
    "            word = word.replace(character, '')\n",
    "    return word\n",
    "\n",
    "for title in final_list:\n",
    "    for word in title:\n",
    "        test_word = clean_word(word)\n",
    "        if test_word == 'aeropespacial':\n",
    "            test_word = 'aeroespacial'\n",
    "        elif test_word == 'serralheiria':\n",
    "            test_word = 'serralheira'\n",
    "        elif test_word == 'mandrilagem':\n",
    "            test_word = 'mecânico'\n",
    "        elif test_word == 'colorimetrista':\n",
    "            test_word = 'colorista'\n",
    "        elif test_word == 'fresaria':\n",
    "            test_word = 'fresa'\n",
    "        elif test_word == 'traumatorpedia':\n",
    "            test_word = 'trauma'\n",
    "        elif test_word == 'neorologia':\n",
    "            test_word = 'neurologia'\n",
    "        elif test_word == 'administração':\n",
    "            test_word = 'administração'\n",
    "        model.word_vec(test_word)"
   ]
  },
  {
   "cell_type": "code",
   "execution_count": 32,
   "metadata": {},
   "outputs": [
    {
     "data": {
      "text/plain": [
       "array([ 0.182897,  0.309039, -0.210265,  0.021087, -0.025528,  0.149114,\n",
       "       -0.239802, -0.334962,  0.142423,  0.224987,  0.015808, -0.213538,\n",
       "        0.225556, -0.0303  , -0.319418,  0.442861,  0.011046, -0.10348 ,\n",
       "       -0.581525,  0.343898, -0.795083,  0.244718, -0.392894,  0.266937,\n",
       "       -0.188591,  0.217794,  0.086318, -0.038021,  0.063617,  0.125227,\n",
       "        0.267519, -0.382494,  0.118173, -0.46606 ,  0.447428,  0.310414,\n",
       "       -0.489577, -0.204405,  0.415578, -0.028567,  0.284658,  0.339385,\n",
       "       -0.045198,  0.124388, -0.506851, -0.19136 , -0.156576,  0.046356,\n",
       "       -0.237123, -0.115663], dtype=float32)"
      ]
     },
     "execution_count": 32,
     "metadata": {},
     "output_type": "execute_result"
    }
   ],
   "source": [
    "model.word_vec('administração')"
   ]
  },
  {
   "cell_type": "code",
   "execution_count": null,
   "metadata": {},
   "outputs": [],
   "source": [
    "df_test = raw_data.copy()\n",
    "df_test['count'] = 1\n",
    "df_test['count'] = df_test['count'].astype(int)\n",
    "freq = df_test.groupby(by='title').sum()\n",
    "freq.sort_values('count', ascending=False)"
   ]
  },
  {
   "cell_type": "code",
   "execution_count": null,
   "metadata": {},
   "outputs": [],
   "source": []
  }
 ],
 "metadata": {
  "kernelspec": {
   "display_name": "Python 3",
   "language": "python",
   "name": "python3"
  },
  "language_info": {
   "codemirror_mode": {
    "name": "ipython",
    "version": 3
   },
   "file_extension": ".py",
   "mimetype": "text/x-python",
   "name": "python",
   "nbconvert_exporter": "python",
   "pygments_lexer": "ipython3",
   "version": "3.7.0"
  }
 },
 "nbformat": 4,
 "nbformat_minor": 2
}

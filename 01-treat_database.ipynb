{
 "cells": [
  {
   "cell_type": "markdown",
   "metadata": {},
   "source": [
    "# Treating database"
   ]
  },
  {
   "cell_type": "markdown",
   "metadata": {},
   "source": [
    "### Importing database"
   ]
  },
  {
   "cell_type": "code",
   "execution_count": 57,
   "metadata": {},
   "outputs": [],
   "source": [
    "import json\n",
    "import pandas as pd\n",
    "import numpy as np\n",
    "from sklearn.impute import SimpleImputer\n",
    "\n",
    "from ast import literal_eval\n",
    "from unidecode import unidecode"
   ]
  },
  {
   "cell_type": "code",
   "execution_count": 58,
   "metadata": {},
   "outputs": [
    {
     "data": {
      "text/plain": [
       "[{'id': 1,\n",
       "  'title': 'Candidato de Contabilidade',\n",
       "  'age': 49,\n",
       "  'location': 'Centro, Curitiba - PR',\n",
       "  'professional_goals_salary': '{\"max\": 0.0, \"min\": 0.0}',\n",
       "  'professional_goals_contract_type': None,\n",
       "  'professional_goals_working_hours': 'Período Integral',\n",
       "  'education': '[{\"dateEnd\": \"2003-11-01\", \"dateInit\": \"2003-02-01\", \"courseName\": \"Curso extra-curricular / Profissionalizante  em Contabilidade para executivos\", \"educationInstitutionName\": \"UNICENP em PR\"}, {\"dateEnd\": \"1989-12-01\", \"dateInit\": \"1985-02-01\", \"courseName\": \"Ensino Superior em Ciências contábeis\", \"educationInstitutionName\": \"FESP-Fundação de estudos Sociais do Parana em PR\"}, {\"dateEnd\": \"1984-11-01\", \"dateInit\": \"1982-02-01\", \"courseName\": \"Curso Técnico em Contabilidade\", \"educationInstitutionName\": \"CEPC-Centro de Estudos Profission.de Curitiba em PR\"}]',\n",
       "  'work_experience': '[{\"field\": \"Contábil, Finanças, Economia\", \"level\": null, \"title\": \"CONTADOR\", \"dateEnd\": \"2006-12-01\", \"dateInit\": \"2005-03-01\", \"position\": \"Contabilidade\", \"description\": \"\"}, {\"field\": \"Contábil, Finanças, Economia\", \"level\": null, \"title\": \"CONTADOR\", \"dateEnd\": \"2004-12-01\", \"dateInit\": \"2001-05-01\", \"position\": \"Contabilidade\", \"description\": \"\"}, {\"field\": \"Contábil, Finanças, Economia\", \"level\": null, \"title\": \"CONTADOR\", \"dateEnd\": \"2001-12-01\", \"dateInit\": \"1995-08-01\", \"position\": \"Contabilidade\", \"description\": \"\"}, {\"field\": \"Contábil, Finanças, Economia\", \"level\": null, \"title\": \"TÉCNICO CONTABIL\", \"dateEnd\": \"1995-06-01\", \"dateInit\": \"1990-04-01\", \"position\": \"Contabilidade\", \"description\": \"\"}, {\"field\": \"Contábil, Finanças, Economia\", \"level\": null, \"title\": \"SUB-CONTADOR\", \"dateEnd\": \"1990-02-01\", \"dateInit\": \"1987-01-01\", \"position\": \"Contabilidade\", \"description\": \"\"}]',\n",
       "  'language': '[{\"level\": \"Intermediário\", \"language\": \"Inglês\"}, {\"level\": \"Nativo\", \"language\": \"Português\"}, {\"level\": \"Básico\", \"language\": \"Espanhol\"}]',\n",
       "  'complementary_data': '{\"travel\": true, \"driving\": \"B\", \"vehicle\": \"Carro particular\", \"residence\": true}',\n",
       "  'sex': 'Não Especificado',\n",
       "  'marital_status': None},\n",
       " {'id': 2,\n",
       "  'title': 'Candidato de Zootecnia',\n",
       "  'age': 38,\n",
       "  'location': 'Santa Helena - PR',\n",
       "  'professional_goals_salary': '{\"max\": 0.0, \"min\": 0.0}',\n",
       "  'professional_goals_contract_type': None,\n",
       "  'professional_goals_working_hours': 'Período Integral',\n",
       "  'education': '[{\"dateEnd\": \"2005-12-01\", \"dateInit\": \"2001-02-01\", \"courseName\": \"Ensino Superior em Zootécnia\", \"educationInstitutionName\": \"Universidade Estadual do Oeste do Parana em PR\"}]',\n",
       "  'work_experience': '[{\"field\": \"Agricultura, Pecuária, Veterinária\", \"level\": null, \"title\": \"trainne\", \"dateEnd\": \"2007-09-01\", \"dateInit\": \"2006-09-01\", \"position\": \"Zootecnia\", \"description\": \"Trabalhei como lider na maternidade. Com aproximadamente 1500 matrizes. Foi um tempo maravilhoso onde aprendi muitas coisas, como  relacionamento pessoal, aplicabilidade para muita coisa que eu aprendi na faculdade, alem de ingles, cultura, etc.\"}]',\n",
       "  'language': '[{\"level\": \"Avançado\", \"language\": \"Inglês\"}, {\"level\": \"Nativo\", \"language\": \"Português\"}]',\n",
       "  'complementary_data': '{\"travel\": true, \"driving\": \"A\", \"vehicle\": \"Carro particular\", \"residence\": true}',\n",
       "  'sex': 'Não Especificado',\n",
       "  'marital_status': None}]"
      ]
     },
     "execution_count": 58,
     "metadata": {},
     "output_type": "execute_result"
    }
   ],
   "source": [
    "db_file = open('resume_base.json', 'rb')\n",
    "db = json.loads(db_file.read())\n",
    "db[0:2]"
   ]
  },
  {
   "cell_type": "code",
   "execution_count": 59,
   "metadata": {},
   "outputs": [
    {
     "data": {
      "text/html": [
       "<div>\n",
       "<style scoped>\n",
       "    .dataframe tbody tr th:only-of-type {\n",
       "        vertical-align: middle;\n",
       "    }\n",
       "\n",
       "    .dataframe tbody tr th {\n",
       "        vertical-align: top;\n",
       "    }\n",
       "\n",
       "    .dataframe thead th {\n",
       "        text-align: right;\n",
       "    }\n",
       "</style>\n",
       "<table border=\"1\" class=\"dataframe\">\n",
       "  <thead>\n",
       "    <tr style=\"text-align: right;\">\n",
       "      <th></th>\n",
       "      <th>age</th>\n",
       "      <th>complementary_data</th>\n",
       "      <th>education</th>\n",
       "      <th>language</th>\n",
       "      <th>location</th>\n",
       "      <th>marital_status</th>\n",
       "      <th>professional_goals_contract_type</th>\n",
       "      <th>professional_goals_salary</th>\n",
       "      <th>professional_goals_working_hours</th>\n",
       "      <th>sex</th>\n",
       "      <th>title</th>\n",
       "      <th>work_experience</th>\n",
       "    </tr>\n",
       "    <tr>\n",
       "      <th>id</th>\n",
       "      <th></th>\n",
       "      <th></th>\n",
       "      <th></th>\n",
       "      <th></th>\n",
       "      <th></th>\n",
       "      <th></th>\n",
       "      <th></th>\n",
       "      <th></th>\n",
       "      <th></th>\n",
       "      <th></th>\n",
       "      <th></th>\n",
       "      <th></th>\n",
       "    </tr>\n",
       "  </thead>\n",
       "  <tbody>\n",
       "    <tr>\n",
       "      <th>1</th>\n",
       "      <td>49</td>\n",
       "      <td>{\"travel\": true, \"driving\": \"B\", \"vehicle\": \"C...</td>\n",
       "      <td>[{\"dateEnd\": \"2003-11-01\", \"dateInit\": \"2003-0...</td>\n",
       "      <td>[{\"level\": \"Intermediário\", \"language\": \"Inglê...</td>\n",
       "      <td>Centro, Curitiba - PR</td>\n",
       "      <td>None</td>\n",
       "      <td>None</td>\n",
       "      <td>{\"max\": 0.0, \"min\": 0.0}</td>\n",
       "      <td>Período Integral</td>\n",
       "      <td>Não Especificado</td>\n",
       "      <td>Candidato de Contabilidade</td>\n",
       "      <td>[{\"field\": \"Contábil, Finanças, Economia\", \"le...</td>\n",
       "    </tr>\n",
       "    <tr>\n",
       "      <th>2</th>\n",
       "      <td>38</td>\n",
       "      <td>{\"travel\": true, \"driving\": \"A\", \"vehicle\": \"C...</td>\n",
       "      <td>[{\"dateEnd\": \"2005-12-01\", \"dateInit\": \"2001-0...</td>\n",
       "      <td>[{\"level\": \"Avançado\", \"language\": \"Inglês\"}, ...</td>\n",
       "      <td>Santa Helena - PR</td>\n",
       "      <td>None</td>\n",
       "      <td>None</td>\n",
       "      <td>{\"max\": 0.0, \"min\": 0.0}</td>\n",
       "      <td>Período Integral</td>\n",
       "      <td>Não Especificado</td>\n",
       "      <td>Candidato de Zootecnia</td>\n",
       "      <td>[{\"field\": \"Agricultura, Pecuária, Veterinária...</td>\n",
       "    </tr>\n",
       "    <tr>\n",
       "      <th>3</th>\n",
       "      <td>54</td>\n",
       "      <td>{\"travel\": true, \"driving\": \"B\", \"vehicle\": nu...</td>\n",
       "      <td>[{\"dateEnd\": \"1999-10-01\", \"dateInit\": \"1999-0...</td>\n",
       "      <td>[{\"level\": \"Intermediário\", \"language\": \"Inglê...</td>\n",
       "      <td>Centro, Curitiba - PR</td>\n",
       "      <td>None</td>\n",
       "      <td>None</td>\n",
       "      <td>{\"max\": 0.0, \"min\": 0.0}</td>\n",
       "      <td>Período Integral</td>\n",
       "      <td>Não Especificado</td>\n",
       "      <td>Candidato de Hotelaria</td>\n",
       "      <td>[{\"field\": \"Hotelaria, Turismo\", \"level\": null...</td>\n",
       "    </tr>\n",
       "    <tr>\n",
       "      <th>4</th>\n",
       "      <td>41</td>\n",
       "      <td>{\"travel\": false, \"driving\": \"B\", \"vehicle\": \"...</td>\n",
       "      <td>[{\"dateEnd\": \"2001-09-01\", \"dateInit\": \"1997-0...</td>\n",
       "      <td>[{\"level\": \"Intermediário\", \"language\": \"Inglê...</td>\n",
       "      <td>Centro, Curitiba - PR</td>\n",
       "      <td>None</td>\n",
       "      <td>None</td>\n",
       "      <td>{\"max\": 0.0, \"min\": 0.0}</td>\n",
       "      <td>Período Integral</td>\n",
       "      <td>Não Especificado</td>\n",
       "      <td>Candidato de Marketing</td>\n",
       "      <td>[{\"field\": \"Marketing\", \"level\": null, \"title\"...</td>\n",
       "    </tr>\n",
       "    <tr>\n",
       "      <th>5</th>\n",
       "      <td>31</td>\n",
       "      <td>{\"travel\": false, \"driving\": null, \"vehicle\": ...</td>\n",
       "      <td>[{\"dateEnd\": \"2004-05-01\", \"dateInit\": \"2004-0...</td>\n",
       "      <td>[{\"level\": \"Intermediário\", \"language\": \"Portu...</td>\n",
       "      <td>Jardim Mediterrâneo, Colombo - PR</td>\n",
       "      <td>None</td>\n",
       "      <td>None</td>\n",
       "      <td>{\"max\": 0.0, \"min\": 0.0}</td>\n",
       "      <td>Período Integral</td>\n",
       "      <td>Não Especificado</td>\n",
       "      <td>Candidato de Instrumentação Industrial</td>\n",
       "      <td>[{\"field\": \"Industrial, Produção, Fábrica\", \"l...</td>\n",
       "    </tr>\n",
       "  </tbody>\n",
       "</table>\n",
       "</div>"
      ],
      "text/plain": [
       "    age                                 complementary_data  \\\n",
       "id                                                           \n",
       "1    49  {\"travel\": true, \"driving\": \"B\", \"vehicle\": \"C...   \n",
       "2    38  {\"travel\": true, \"driving\": \"A\", \"vehicle\": \"C...   \n",
       "3    54  {\"travel\": true, \"driving\": \"B\", \"vehicle\": nu...   \n",
       "4    41  {\"travel\": false, \"driving\": \"B\", \"vehicle\": \"...   \n",
       "5    31  {\"travel\": false, \"driving\": null, \"vehicle\": ...   \n",
       "\n",
       "                                            education  \\\n",
       "id                                                      \n",
       "1   [{\"dateEnd\": \"2003-11-01\", \"dateInit\": \"2003-0...   \n",
       "2   [{\"dateEnd\": \"2005-12-01\", \"dateInit\": \"2001-0...   \n",
       "3   [{\"dateEnd\": \"1999-10-01\", \"dateInit\": \"1999-0...   \n",
       "4   [{\"dateEnd\": \"2001-09-01\", \"dateInit\": \"1997-0...   \n",
       "5   [{\"dateEnd\": \"2004-05-01\", \"dateInit\": \"2004-0...   \n",
       "\n",
       "                                             language  \\\n",
       "id                                                      \n",
       "1   [{\"level\": \"Intermediário\", \"language\": \"Inglê...   \n",
       "2   [{\"level\": \"Avançado\", \"language\": \"Inglês\"}, ...   \n",
       "3   [{\"level\": \"Intermediário\", \"language\": \"Inglê...   \n",
       "4   [{\"level\": \"Intermediário\", \"language\": \"Inglê...   \n",
       "5   [{\"level\": \"Intermediário\", \"language\": \"Portu...   \n",
       "\n",
       "                             location marital_status  \\\n",
       "id                                                     \n",
       "1               Centro, Curitiba - PR           None   \n",
       "2                   Santa Helena - PR           None   \n",
       "3               Centro, Curitiba - PR           None   \n",
       "4               Centro, Curitiba - PR           None   \n",
       "5   Jardim Mediterrâneo, Colombo - PR           None   \n",
       "\n",
       "   professional_goals_contract_type professional_goals_salary  \\\n",
       "id                                                              \n",
       "1                              None  {\"max\": 0.0, \"min\": 0.0}   \n",
       "2                              None  {\"max\": 0.0, \"min\": 0.0}   \n",
       "3                              None  {\"max\": 0.0, \"min\": 0.0}   \n",
       "4                              None  {\"max\": 0.0, \"min\": 0.0}   \n",
       "5                              None  {\"max\": 0.0, \"min\": 0.0}   \n",
       "\n",
       "   professional_goals_working_hours               sex  \\\n",
       "id                                                      \n",
       "1                  Período Integral  Não Especificado   \n",
       "2                  Período Integral  Não Especificado   \n",
       "3                  Período Integral  Não Especificado   \n",
       "4                  Período Integral  Não Especificado   \n",
       "5                  Período Integral  Não Especificado   \n",
       "\n",
       "                                     title  \\\n",
       "id                                           \n",
       "1               Candidato de Contabilidade   \n",
       "2                   Candidato de Zootecnia   \n",
       "3                   Candidato de Hotelaria   \n",
       "4                   Candidato de Marketing   \n",
       "5   Candidato de Instrumentação Industrial   \n",
       "\n",
       "                                      work_experience  \n",
       "id                                                     \n",
       "1   [{\"field\": \"Contábil, Finanças, Economia\", \"le...  \n",
       "2   [{\"field\": \"Agricultura, Pecuária, Veterinária...  \n",
       "3   [{\"field\": \"Hotelaria, Turismo\", \"level\": null...  \n",
       "4   [{\"field\": \"Marketing\", \"level\": null, \"title\"...  \n",
       "5   [{\"field\": \"Industrial, Produção, Fábrica\", \"l...  "
      ]
     },
     "execution_count": 59,
     "metadata": {},
     "output_type": "execute_result"
    }
   ],
   "source": [
    "original_raw_data = pd.DataFrame(db)\n",
    "raw_data = original_raw_data.copy()\n",
    "raw_data = raw_data.set_index('id')\n",
    "raw_data.head()"
   ]
  },
  {
   "cell_type": "markdown",
   "metadata": {},
   "source": [
    "## Treating Data"
   ]
  },
  {
   "cell_type": "code",
   "execution_count": 60,
   "metadata": {},
   "outputs": [],
   "source": [
    "treated_dataset = pd.DataFrame()\n",
    "no_treatment_needed_attributes = ['age']\n",
    "treated_dataset[no_treatment_needed_attributes] = raw_data[no_treatment_needed_attributes]"
   ]
  },
  {
   "cell_type": "markdown",
   "metadata": {},
   "source": [
    "### Helper Functions"
   ]
  },
  {
   "cell_type": "code",
   "execution_count": 61,
   "metadata": {},
   "outputs": [],
   "source": [
    "def swap_none_for_constant(data, column, fill_value, missing_values=None):\n",
    "    imputer = SimpleImputer(missing_values=missing_values, strategy='constant', fill_value=fill_value)\n",
    "    imputer.fit(data[column].values.reshape(-1,1))\n",
    "    data[column] = imputer.transform(data[column].values.reshape(-1,1))\n",
    "    return data"
   ]
  },
  {
   "cell_type": "code",
   "execution_count": 62,
   "metadata": {},
   "outputs": [],
   "source": [
    "def one_edit_apart(s1, s2):\n",
    "    if abs(len(s1) - len(s2)) > 1:\n",
    "        return False\n",
    "    if len(s1) > len(s2):\n",
    "        bigger = s1\n",
    "        smaller = s2\n",
    "    else:\n",
    "        bigger = s2\n",
    "        smaller = s1\n",
    "\n",
    "    equal_length_strings = len(s1) == len(s2)\n",
    "    saw_difference = False\n",
    "    i = 0\n",
    "    j = 0\n",
    "    while i < len(smaller): \n",
    "        if (bigger[j] != smaller[i]):\n",
    "            if (saw_difference):\n",
    "                return False\n",
    "            saw_difference = True\n",
    "            if (not equal_length_strings):\n",
    "                i = i - 1\n",
    "        i = i + 1\n",
    "        j = j + 1\n",
    "    return True"
   ]
  },
  {
   "cell_type": "code",
   "execution_count": 63,
   "metadata": {},
   "outputs": [],
   "source": [
    "def string_list_dicts_to_dict(s, classes, dirty_portugues, dirty_ingles):\n",
    "    d = {}\n",
    "    for c in classes:\n",
    "        d[c] = False;\n",
    "    if s != None:\n",
    "        list_of_dicts = json.loads(s)\n",
    "        for language_info in list_of_dicts:\n",
    "            language = language_info['language']\n",
    "            if language == dirty_portugues:\n",
    "                language = 'Português'\n",
    "            elif language == dirty_ingles:\n",
    "                language = 'Inglês'\n",
    "            d[language] = True   #trocar para Label Encoder de nivel\n",
    "    return d"
   ]
  },
  {
   "cell_type": "code",
   "execution_count": 64,
   "metadata": {},
   "outputs": [],
   "source": [
    "def get_language_feature(target_dataset, target_column, classes, new_column_prefix, dirty_portugues, dirty_ingles):\n",
    "    aux_dataset = pd.DataFrame()\n",
    "    aux_dataset['dict'] = target_dataset[target_column].apply(string_list_dicts_to_dict, args=[classes, dirty_portugues, dirty_ingles])\n",
    "    for key in classes:\n",
    "        aux_dataset[new_column_prefix + key] = aux_dataset['dict'].map(lambda v: v[key])\n",
    "    return aux_dataset.drop('dict', axis=1)"
   ]
  },
  {
   "cell_type": "code",
   "execution_count": 65,
   "metadata": {},
   "outputs": [],
   "source": [
    "def string_list_to_dict(s, classes):\n",
    "    input = s.replace(' ', '')\n",
    "    d = {}\n",
    "    for c in classes: \n",
    "        d[c] = False\n",
    "    for driving_class in input.split(','):\n",
    "        d[driving_class] = True\n",
    "    return d"
   ]
  },
  {
   "cell_type": "code",
   "execution_count": 66,
   "metadata": {},
   "outputs": [],
   "source": [
    "def split_string_list_in_features(target_dataset, target_column, classes, new_column_prefix):\n",
    "    aux_dataset = pd.DataFrame()\n",
    "    aux_dataset['dict'] = target_dataset[target_column].apply(string_list_to_dict, args=[classes])\n",
    "    for key in classes:\n",
    "        aux_dataset[new_column_prefix + key] = aux_dataset['dict'].map(lambda v: v[key])\n",
    "    return aux_dataset.drop('dict', axis=1)"
   ]
  },
  {
   "cell_type": "markdown",
   "metadata": {},
   "source": [
    "### Professional Goals Salary Treat"
   ]
  },
  {
   "cell_type": "markdown",
   "metadata": {},
   "source": [
    "For a first approach as it is a litterally numerical attribute we will just divide into a max and min attribute"
   ]
  },
  {
   "cell_type": "code",
   "execution_count": 67,
   "metadata": {},
   "outputs": [
    {
     "data": {
      "text/plain": [
       "array(['{\"max\": 0.0, \"min\": 0.0}', None, '{\"max\": 3000.0, \"min\": 1200.0}',\n",
       "       ..., '{\"max\": 2450.0, \"min\": 2300.0}',\n",
       "       '{\"max\": 14000.0, \"min\": 7000.0}',\n",
       "       '{\"max\": 4800.0, \"min\": 2800.0}'], dtype=object)"
      ]
     },
     "execution_count": 67,
     "metadata": {},
     "output_type": "execute_result"
    }
   ],
   "source": [
    "raw_data['professional_goals_salary'].unique()"
   ]
  },
  {
   "cell_type": "markdown",
   "metadata": {},
   "source": [
    "Tem valores de None, entao a primeira abordagem trivial é só substituir por {\"max\": 0.0, \"min\":0.0}, pode ser interessante usar a média dos valores futuramente (inclusive substituindo as atuais ocorrencias de {\"max\": 0.0, \"min\":0.0})"
   ]
  },
  {
   "cell_type": "code",
   "execution_count": 68,
   "metadata": {},
   "outputs": [
    {
     "data": {
      "text/plain": [
       "True"
      ]
     },
     "metadata": {},
     "output_type": "display_data"
    },
    {
     "data": {
      "text/plain": [
       "False"
      ]
     },
     "execution_count": 68,
     "metadata": {},
     "output_type": "execute_result"
    }
   ],
   "source": [
    "display(raw_data['professional_goals_salary'].isnull().values.any())\n",
    "swap_none_for_constant(raw_data, 'professional_goals_salary', {\"max\": 0.0, \"min\":0.0})\n",
    "raw_data['professional_goals_salary'].isnull().values.any()"
   ]
  },
  {
   "cell_type": "code",
   "execution_count": 69,
   "metadata": {},
   "outputs": [],
   "source": [
    "treated_dataset['professional_goals_salary_min'] = raw_data['professional_goals_salary'].astype(str).map(lambda v: literal_eval(v)['min'])\n",
    "treated_dataset['professional_goals_salary_max'] = raw_data['professional_goals_salary'].astype(str).map(lambda v: literal_eval(v)['max'])"
   ]
  },
  {
   "cell_type": "code",
   "execution_count": 70,
   "metadata": {},
   "outputs": [
    {
     "data": {
      "text/html": [
       "<div>\n",
       "<style scoped>\n",
       "    .dataframe tbody tr th:only-of-type {\n",
       "        vertical-align: middle;\n",
       "    }\n",
       "\n",
       "    .dataframe tbody tr th {\n",
       "        vertical-align: top;\n",
       "    }\n",
       "\n",
       "    .dataframe thead th {\n",
       "        text-align: right;\n",
       "    }\n",
       "</style>\n",
       "<table border=\"1\" class=\"dataframe\">\n",
       "  <thead>\n",
       "    <tr style=\"text-align: right;\">\n",
       "      <th></th>\n",
       "      <th>professional_goals_salary_min</th>\n",
       "      <th>professional_goals_salary_max</th>\n",
       "    </tr>\n",
       "    <tr>\n",
       "      <th>id</th>\n",
       "      <th></th>\n",
       "      <th></th>\n",
       "    </tr>\n",
       "  </thead>\n",
       "  <tbody>\n",
       "    <tr>\n",
       "      <th>49101</th>\n",
       "      <td>900.0</td>\n",
       "      <td>1200.0</td>\n",
       "    </tr>\n",
       "    <tr>\n",
       "      <th>64613</th>\n",
       "      <td>900.0</td>\n",
       "      <td>1000.0</td>\n",
       "    </tr>\n",
       "    <tr>\n",
       "      <th>80561</th>\n",
       "      <td>3000.0</td>\n",
       "      <td>3500.0</td>\n",
       "    </tr>\n",
       "    <tr>\n",
       "      <th>94966</th>\n",
       "      <td>1000.0</td>\n",
       "      <td>1300.0</td>\n",
       "    </tr>\n",
       "    <tr>\n",
       "      <th>44315</th>\n",
       "      <td>5000.0</td>\n",
       "      <td>7000.0</td>\n",
       "    </tr>\n",
       "  </tbody>\n",
       "</table>\n",
       "</div>"
      ],
      "text/plain": [
       "       professional_goals_salary_min  professional_goals_salary_max\n",
       "id                                                                 \n",
       "49101                          900.0                         1200.0\n",
       "64613                          900.0                         1000.0\n",
       "80561                         3000.0                         3500.0\n",
       "94966                         1000.0                         1300.0\n",
       "44315                         5000.0                         7000.0"
      ]
     },
     "execution_count": 70,
     "metadata": {},
     "output_type": "execute_result"
    }
   ],
   "source": [
    "treated_dataset[['professional_goals_salary_min', 'professional_goals_salary_max']].sample(5)"
   ]
  },
  {
   "cell_type": "markdown",
   "metadata": {},
   "source": [
    "### Professional Goals Contract Type Treat"
   ]
  },
  {
   "cell_type": "code",
   "execution_count": 71,
   "metadata": {},
   "outputs": [
    {
     "data": {
      "text/plain": [
       "array(['None', 'Estagio', 'Efetivo - CLT', 'Outros', 'Temporario',\n",
       "       'Autonomo', 'Trainee', 'Cooperado', 'Prestador de Servicos (PJ)',\n",
       "       'Estgio', 'Efetivo  CLT'], dtype=object)"
      ]
     },
     "execution_count": 71,
     "metadata": {},
     "output_type": "execute_result"
    }
   ],
   "source": [
    "raw_data['professional_goals_contract_type'].astype(str).apply(unidecode).unique()"
   ]
  },
  {
   "cell_type": "markdown",
   "metadata": {},
   "source": [
    "Necessario unificar termos com distancia de edição até 1 e incluir não informado nas situações com None"
   ]
  },
  {
   "cell_type": "code",
   "execution_count": 72,
   "metadata": {},
   "outputs": [],
   "source": [
    "raw_data = swap_none_for_constant(raw_data, 'professional_goals_contract_type', \"Nao Informado\")"
   ]
  },
  {
   "cell_type": "code",
   "execution_count": 73,
   "metadata": {},
   "outputs": [
    {
     "data": {
      "text/plain": [
       "array(['Nao Informado', 'Estagio', 'Efetivo - CLT', 'Outros',\n",
       "       'Temporario', 'Autonomo', 'Trainee', 'Cooperado',\n",
       "       'Prestador de Servicos (PJ)', 'Estgio', 'Efetivo  CLT'],\n",
       "      dtype=object)"
      ]
     },
     "execution_count": 73,
     "metadata": {},
     "output_type": "execute_result"
    }
   ],
   "source": [
    "raw_data['professional_goals_contract_type'].astype(str).apply(unidecode).unique()"
   ]
  },
  {
   "cell_type": "code",
   "execution_count": 74,
   "metadata": {},
   "outputs": [],
   "source": [
    "core_contracts_types = ['Nao Informado', 'Estagio', 'Efetivo - CLT', 'Outros',\n",
    "       'Temporario', 'Autonomo', 'Trainee', 'Cooperado', 'Prestador de Servicos (PJ)']\n",
    "\n",
    "treated_dataset['professional_goals_contract_type'] = raw_data['professional_goals_contract_type'].astype(str).apply(unidecode)\n",
    "clean_contract_type = np.array(treated_dataset['professional_goals_contract_type'])\n",
    "\n",
    "for contract_type in core_contracts_types:\n",
    "    for i in range(0,len(clean_contract_type)):\n",
    "        if one_edit_apart(clean_contract_type[i], contract_type):\n",
    "            clean_contract_type[i] = contract_type\n",
    "\n",
    "treated_dataset['professional_goals_contract_type'] = clean_contract_type"
   ]
  },
  {
   "cell_type": "code",
   "execution_count": 75,
   "metadata": {},
   "outputs": [
    {
     "data": {
      "text/plain": [
       "array(['Nao Informado', 'Estagio', 'Efetivo - CLT', 'Outros',\n",
       "       'Temporario', 'Autonomo', 'Trainee', 'Cooperado',\n",
       "       'Prestador de Servicos (PJ)'], dtype=object)"
      ]
     },
     "execution_count": 75,
     "metadata": {},
     "output_type": "execute_result"
    }
   ],
   "source": [
    "treated_dataset['professional_goals_contract_type'].unique()"
   ]
  },
  {
   "cell_type": "markdown",
   "metadata": {},
   "source": [
    "### Professional Goals Working Hours"
   ]
  },
  {
   "cell_type": "code",
   "execution_count": 76,
   "metadata": {},
   "outputs": [
    {
     "data": {
      "text/plain": [
       "array(['Periodo Integral', 'Parcial manhas', 'None', 'Parcial tardes',\n",
       "       'Parcial noites', 'Noturno', 'Perodo Integral', 'Parcial manhs'],\n",
       "      dtype=object)"
      ]
     },
     "execution_count": 76,
     "metadata": {},
     "output_type": "execute_result"
    }
   ],
   "source": [
    "raw_data['professional_goals_working_hours'].astype(str).apply(unidecode).unique()"
   ]
  },
  {
   "cell_type": "code",
   "execution_count": 77,
   "metadata": {},
   "outputs": [],
   "source": [
    "raw_data = swap_none_for_constant(raw_data, 'professional_goals_working_hours', \"Nao Informado\")"
   ]
  },
  {
   "cell_type": "code",
   "execution_count": 78,
   "metadata": {},
   "outputs": [],
   "source": [
    "core_working_hours = ['Periodo Integral', 'Parcial manhas', 'None', 'Parcial tardes',\n",
    "                       'Parcial noites', 'Noturno']"
   ]
  },
  {
   "cell_type": "code",
   "execution_count": 79,
   "metadata": {},
   "outputs": [],
   "source": [
    "treated_dataset['professional_goals_working_hours'] = raw_data['professional_goals_working_hours'].astype(str).apply(unidecode)\n",
    "clean_working_hours = np.array(treated_dataset['professional_goals_working_hours'])\n",
    "\n",
    "for working_hours in core_working_hours:\n",
    "    for i in range(0,len(clean_working_hours)):\n",
    "        if one_edit_apart(clean_working_hours[i], working_hours):\n",
    "            clean_working_hours[i] = working_hours\n",
    "\n",
    "treated_dataset['professional_goals_working_hours'] = clean_working_hours"
   ]
  },
  {
   "cell_type": "code",
   "execution_count": 80,
   "metadata": {},
   "outputs": [
    {
     "data": {
      "text/plain": [
       "array(['Periodo Integral', 'Parcial manhas', 'Nao Informado',\n",
       "       'Parcial tardes', 'Parcial noites', 'Noturno'], dtype=object)"
      ]
     },
     "execution_count": 80,
     "metadata": {},
     "output_type": "execute_result"
    }
   ],
   "source": [
    "treated_dataset['professional_goals_working_hours'].unique()"
   ]
  },
  {
   "cell_type": "markdown",
   "metadata": {},
   "source": [
    "### Complementary Data Treat"
   ]
  },
  {
   "cell_type": "code",
   "execution_count": 81,
   "metadata": {},
   "outputs": [
    {
     "data": {
      "text/plain": [
       "Index(['age', 'professional_goals_salary_min', 'professional_goals_salary_max',\n",
       "       'professional_goals_contract_type', 'professional_goals_working_hours'],\n",
       "      dtype='object')"
      ]
     },
     "execution_count": 81,
     "metadata": {},
     "output_type": "execute_result"
    }
   ],
   "source": [
    "treated_dataset.columns"
   ]
  },
  {
   "cell_type": "code",
   "execution_count": 82,
   "metadata": {},
   "outputs": [],
   "source": [
    "complementary_data_keys = list(json.loads(raw_data['complementary_data'].values[0]).keys())\n",
    "\n",
    "for key in complementary_data_keys:\n",
    "    treated_dataset['complementary_data_' + key] = raw_data['complementary_data'].map(lambda v: json.loads(v)[key])"
   ]
  },
  {
   "cell_type": "markdown",
   "metadata": {},
   "source": [
    "Vehicle e Driving precisam de um tratamento extra para remover Nones e transformar strings que representam multiplos atributos em lista e futuramente em uma feature cada"
   ]
  },
  {
   "cell_type": "code",
   "execution_count": 83,
   "metadata": {},
   "outputs": [
    {
     "data": {
      "text/plain": [
       "array(['B', 'A', None, 'A, B', 'E', 'C', 'D', 'B, A', 'A, B, C, D, E',\n",
       "       'A, B, C, D', 'B, D', 'A, C', 'A, D', 'A, B, C', 'A, E', 'B, B',\n",
       "       'B, C', 'A, A', 'C, A, B', 'B, A, C, D', 'B, C, D', 'B, D, A',\n",
       "       'D, A', 'D, B', 'A, B, D', 'A, C, B', 'C, E', 'A, B, D, C',\n",
       "       'B, A, D', 'D, B, C', 'D, E', 'A, D, B, C, E', 'D, A, B, C',\n",
       "       'C, A', 'B, D, A, C', 'A, D, B, C', 'E, A', 'D, B, C, A',\n",
       "       'A, B, D, E, C', 'A, B, A, B, A, B', 'A, C, D', 'E, A, B, C, D',\n",
       "       'A, B, C, E'], dtype=object)"
      ]
     },
     "execution_count": 83,
     "metadata": {},
     "output_type": "execute_result"
    }
   ],
   "source": [
    "treated_dataset['complementary_data_driving'].unique()"
   ]
  },
  {
   "cell_type": "code",
   "execution_count": 84,
   "metadata": {},
   "outputs": [],
   "source": [
    "treated_dataset = swap_none_for_constant(treated_dataset, 'complementary_data_driving', \"\")"
   ]
  },
  {
   "cell_type": "code",
   "execution_count": 85,
   "metadata": {},
   "outputs": [
    {
     "data": {
      "text/html": [
       "<div>\n",
       "<style scoped>\n",
       "    .dataframe tbody tr th:only-of-type {\n",
       "        vertical-align: middle;\n",
       "    }\n",
       "\n",
       "    .dataframe tbody tr th {\n",
       "        vertical-align: top;\n",
       "    }\n",
       "\n",
       "    .dataframe thead th {\n",
       "        text-align: right;\n",
       "    }\n",
       "</style>\n",
       "<table border=\"1\" class=\"dataframe\">\n",
       "  <thead>\n",
       "    <tr style=\"text-align: right;\">\n",
       "      <th></th>\n",
       "      <th>driving_A</th>\n",
       "      <th>driving_B</th>\n",
       "      <th>driving_C</th>\n",
       "      <th>driving_D</th>\n",
       "      <th>driving_E</th>\n",
       "    </tr>\n",
       "    <tr>\n",
       "      <th>id</th>\n",
       "      <th></th>\n",
       "      <th></th>\n",
       "      <th></th>\n",
       "      <th></th>\n",
       "      <th></th>\n",
       "    </tr>\n",
       "  </thead>\n",
       "  <tbody>\n",
       "    <tr>\n",
       "      <th>1</th>\n",
       "      <td>False</td>\n",
       "      <td>True</td>\n",
       "      <td>False</td>\n",
       "      <td>False</td>\n",
       "      <td>False</td>\n",
       "    </tr>\n",
       "    <tr>\n",
       "      <th>2</th>\n",
       "      <td>True</td>\n",
       "      <td>False</td>\n",
       "      <td>False</td>\n",
       "      <td>False</td>\n",
       "      <td>False</td>\n",
       "    </tr>\n",
       "    <tr>\n",
       "      <th>3</th>\n",
       "      <td>False</td>\n",
       "      <td>True</td>\n",
       "      <td>False</td>\n",
       "      <td>False</td>\n",
       "      <td>False</td>\n",
       "    </tr>\n",
       "    <tr>\n",
       "      <th>4</th>\n",
       "      <td>False</td>\n",
       "      <td>True</td>\n",
       "      <td>False</td>\n",
       "      <td>False</td>\n",
       "      <td>False</td>\n",
       "    </tr>\n",
       "    <tr>\n",
       "      <th>5</th>\n",
       "      <td>False</td>\n",
       "      <td>False</td>\n",
       "      <td>False</td>\n",
       "      <td>False</td>\n",
       "      <td>False</td>\n",
       "    </tr>\n",
       "  </tbody>\n",
       "</table>\n",
       "</div>"
      ],
      "text/plain": [
       "    driving_A  driving_B  driving_C  driving_D  driving_E\n",
       "id                                                       \n",
       "1       False       True      False      False      False\n",
       "2        True      False      False      False      False\n",
       "3       False       True      False      False      False\n",
       "4       False       True      False      False      False\n",
       "5       False      False      False      False      False"
      ]
     },
     "execution_count": 85,
     "metadata": {},
     "output_type": "execute_result"
    }
   ],
   "source": [
    "driving_classes = ['A', 'B', 'C', 'D', 'E']\n",
    "new_features = split_string_list_in_features(treated_dataset, 'complementary_data_driving', driving_classes, 'driving_')\n",
    "treated_dataset = pd.concat([treated_dataset,new_features], axis=1)\n",
    "treated_dataset[['driving_' + k for k in driving_classes]].head()"
   ]
  },
  {
   "cell_type": "code",
   "execution_count": 86,
   "metadata": {},
   "outputs": [
    {
     "data": {
      "text/html": [
       "<div>\n",
       "<style scoped>\n",
       "    .dataframe tbody tr th:only-of-type {\n",
       "        vertical-align: middle;\n",
       "    }\n",
       "\n",
       "    .dataframe tbody tr th {\n",
       "        vertical-align: top;\n",
       "    }\n",
       "\n",
       "    .dataframe thead th {\n",
       "        text-align: right;\n",
       "    }\n",
       "</style>\n",
       "<table border=\"1\" class=\"dataframe\">\n",
       "  <thead>\n",
       "    <tr style=\"text-align: right;\">\n",
       "      <th></th>\n",
       "      <th>driving_A</th>\n",
       "      <th>driving_B</th>\n",
       "      <th>driving_C</th>\n",
       "      <th>driving_D</th>\n",
       "      <th>driving_E</th>\n",
       "    </tr>\n",
       "    <tr>\n",
       "      <th>id</th>\n",
       "      <th></th>\n",
       "      <th></th>\n",
       "      <th></th>\n",
       "      <th></th>\n",
       "      <th></th>\n",
       "    </tr>\n",
       "  </thead>\n",
       "  <tbody>\n",
       "    <tr>\n",
       "      <th>1</th>\n",
       "      <td>False</td>\n",
       "      <td>True</td>\n",
       "      <td>False</td>\n",
       "      <td>False</td>\n",
       "      <td>False</td>\n",
       "    </tr>\n",
       "    <tr>\n",
       "      <th>2</th>\n",
       "      <td>True</td>\n",
       "      <td>False</td>\n",
       "      <td>False</td>\n",
       "      <td>False</td>\n",
       "      <td>False</td>\n",
       "    </tr>\n",
       "    <tr>\n",
       "      <th>3</th>\n",
       "      <td>False</td>\n",
       "      <td>True</td>\n",
       "      <td>False</td>\n",
       "      <td>False</td>\n",
       "      <td>False</td>\n",
       "    </tr>\n",
       "    <tr>\n",
       "      <th>4</th>\n",
       "      <td>False</td>\n",
       "      <td>True</td>\n",
       "      <td>False</td>\n",
       "      <td>False</td>\n",
       "      <td>False</td>\n",
       "    </tr>\n",
       "    <tr>\n",
       "      <th>5</th>\n",
       "      <td>False</td>\n",
       "      <td>False</td>\n",
       "      <td>False</td>\n",
       "      <td>False</td>\n",
       "      <td>False</td>\n",
       "    </tr>\n",
       "  </tbody>\n",
       "</table>\n",
       "</div>"
      ],
      "text/plain": [
       "    driving_A  driving_B  driving_C  driving_D  driving_E\n",
       "id                                                       \n",
       "1       False       True      False      False      False\n",
       "2        True      False      False      False      False\n",
       "3       False       True      False      False      False\n",
       "4       False       True      False      False      False\n",
       "5       False      False      False      False      False"
      ]
     },
     "execution_count": 86,
     "metadata": {},
     "output_type": "execute_result"
    }
   ],
   "source": [
    "treated_dataset[['driving_' + d_class for d_class in driving_classes]].head()"
   ]
  },
  {
   "cell_type": "code",
   "execution_count": 87,
   "metadata": {},
   "outputs": [
    {
     "data": {
      "text/plain": [
       "array(['Carro particular', None, 'Moto', 'Caminhão', 'Outro',\n",
       "       'Moto, Carro particular', 'Carro particular, Moto',\n",
       "       'Carro particular, Outro', 'Outro, Carro particular',\n",
       "       'Carro particular, Caminhão', 'Moto, Outro',\n",
       "       'Carro particular, Moto, Outro',\n",
       "       'Caminhão, Carro particular, Moto',\n",
       "       'Moto, Carro particular, Outro', 'Caminhão, Outro',\n",
       "       'Caminhão, Carro particular', 'Carro particular, Outro, Caminhão',\n",
       "       'Moto, Carro particular, Caminhão',\n",
       "       'Carro particular, Carro particular',\n",
       "       'Moto, Carro particular, Caminhão, Outro',\n",
       "       'Carro particular, Caminhão, Outro', 'Moto, Caminhão',\n",
       "       'Carro particular, Moto, Caminhão',\n",
       "       'Carro particular, Caminhão, Moto, Outro',\n",
       "       'Moto, Caminhão, Carro particular', 'Caminhão, Moto',\n",
       "       'Outro, Carro particular, Moto', 'Moto, Outro, Carro particular',\n",
       "       'Carro particular, Caminhão, Moto', 'Moto, Caminhão, Outro',\n",
       "       'Caminhão, Carro particular, Moto, Outro'], dtype=object)"
      ]
     },
     "execution_count": 87,
     "metadata": {},
     "output_type": "execute_result"
    }
   ],
   "source": [
    "treated_dataset['complementary_data_vehicle'].unique()"
   ]
  },
  {
   "cell_type": "code",
   "execution_count": 88,
   "metadata": {},
   "outputs": [
    {
     "data": {
      "text/html": [
       "<div>\n",
       "<style scoped>\n",
       "    .dataframe tbody tr th:only-of-type {\n",
       "        vertical-align: middle;\n",
       "    }\n",
       "\n",
       "    .dataframe tbody tr th {\n",
       "        vertical-align: top;\n",
       "    }\n",
       "\n",
       "    .dataframe thead th {\n",
       "        text-align: right;\n",
       "    }\n",
       "</style>\n",
       "<table border=\"1\" class=\"dataframe\">\n",
       "  <thead>\n",
       "    <tr style=\"text-align: right;\">\n",
       "      <th></th>\n",
       "      <th>vehicle_Carro particular</th>\n",
       "      <th>vehicle_Moto</th>\n",
       "      <th>vehicle_Caminhão</th>\n",
       "      <th>vehicle_Outro</th>\n",
       "    </tr>\n",
       "    <tr>\n",
       "      <th>id</th>\n",
       "      <th></th>\n",
       "      <th></th>\n",
       "      <th></th>\n",
       "      <th></th>\n",
       "    </tr>\n",
       "  </thead>\n",
       "  <tbody>\n",
       "    <tr>\n",
       "      <th>1</th>\n",
       "      <td>False</td>\n",
       "      <td>False</td>\n",
       "      <td>False</td>\n",
       "      <td>False</td>\n",
       "    </tr>\n",
       "    <tr>\n",
       "      <th>2</th>\n",
       "      <td>False</td>\n",
       "      <td>False</td>\n",
       "      <td>False</td>\n",
       "      <td>False</td>\n",
       "    </tr>\n",
       "    <tr>\n",
       "      <th>3</th>\n",
       "      <td>False</td>\n",
       "      <td>False</td>\n",
       "      <td>False</td>\n",
       "      <td>False</td>\n",
       "    </tr>\n",
       "    <tr>\n",
       "      <th>4</th>\n",
       "      <td>False</td>\n",
       "      <td>False</td>\n",
       "      <td>False</td>\n",
       "      <td>False</td>\n",
       "    </tr>\n",
       "    <tr>\n",
       "      <th>5</th>\n",
       "      <td>False</td>\n",
       "      <td>False</td>\n",
       "      <td>False</td>\n",
       "      <td>False</td>\n",
       "    </tr>\n",
       "  </tbody>\n",
       "</table>\n",
       "</div>"
      ],
      "text/plain": [
       "    vehicle_Carro particular  vehicle_Moto  vehicle_Caminhão  vehicle_Outro\n",
       "id                                                                         \n",
       "1                      False         False             False          False\n",
       "2                      False         False             False          False\n",
       "3                      False         False             False          False\n",
       "4                      False         False             False          False\n",
       "5                      False         False             False          False"
      ]
     },
     "execution_count": 88,
     "metadata": {},
     "output_type": "execute_result"
    }
   ],
   "source": [
    "vehicle_classes = ['Carro particular', 'Moto', 'Caminhão', 'Outro']\n",
    "treated_dataset = swap_none_for_constant(treated_dataset, 'complementary_data_vehicle', \"\")\n",
    "new_features = split_string_list_in_features(treated_dataset, 'complementary_data_vehicle', vehicle_classes, 'vehicle_')\n",
    "treated_dataset = pd.concat([treated_dataset,new_features], axis=1)\n",
    "treated_dataset[['vehicle_' + k for k in vehicle_classes]].head()"
   ]
  },
  {
   "cell_type": "code",
   "execution_count": 89,
   "metadata": {},
   "outputs": [
    {
     "data": {
      "text/plain": [
       "Index(['age', 'professional_goals_salary_min', 'professional_goals_salary_max',\n",
       "       'professional_goals_contract_type', 'professional_goals_working_hours',\n",
       "       'complementary_data_travel', 'complementary_data_residence',\n",
       "       'driving_A', 'driving_B', 'driving_C', 'driving_D', 'driving_E',\n",
       "       'vehicle_Carro particular', 'vehicle_Moto', 'vehicle_Caminhão',\n",
       "       'vehicle_Outro'],\n",
       "      dtype='object')"
      ]
     },
     "execution_count": 89,
     "metadata": {},
     "output_type": "execute_result"
    }
   ],
   "source": [
    "treated_dataset = treated_dataset.drop(['complementary_data_driving', 'complementary_data_vehicle'], axis=1)\n",
    "treated_dataset.columns"
   ]
  },
  {
   "cell_type": "code",
   "execution_count": 90,
   "metadata": {},
   "outputs": [
    {
     "data": {
      "text/plain": [
       "array([ True, False])"
      ]
     },
     "execution_count": 90,
     "metadata": {},
     "output_type": "execute_result"
    }
   ],
   "source": [
    "treated_dataset['complementary_data_travel'].unique()"
   ]
  },
  {
   "cell_type": "markdown",
   "metadata": {},
   "source": [
    "### Title Treat"
   ]
  },
  {
   "cell_type": "code",
   "execution_count": 91,
   "metadata": {},
   "outputs": [],
   "source": [
    "def is_clean(word):\n",
    "    return word != '/' and len(word) > 2 "
   ]
  },
  {
   "cell_type": "code",
   "execution_count": 92,
   "metadata": {},
   "outputs": [
    {
     "name": "stdout",
     "output_type": "stream",
     "text": [
      "fitted\n"
     ]
    }
   ],
   "source": [
    "from gensim.models import KeyedVectors\n",
    "\n",
    "model = KeyedVectors.load_word2vec_format('cbow_s50.txt')\n",
    "print('fitted')"
   ]
  },
  {
   "cell_type": "code",
   "execution_count": 93,
   "metadata": {},
   "outputs": [],
   "source": [
    "splitted_list = [ title.split(' ')[1:] for title in raw_data['title'].unique() ]\n",
    "final_list = [ [ i.lower() for i in title if is_clean(i)] if ( '/' in title or len(title) > 1 ) else [title[0].lower()] for title in splitted_list ]"
   ]
  },
  {
   "cell_type": "code",
   "execution_count": 94,
   "metadata": {},
   "outputs": [],
   "source": [
    "def clean_word(word):\n",
    "    bad_characters = [ '(', ')', ',']\n",
    "    for character in bad_characters:\n",
    "        if character in word:\n",
    "            word = word.replace(character, '')\n",
    "    if word == 'aeropespacial':\n",
    "        word = 'aeroespacial'\n",
    "    elif word == 'serralheiria':\n",
    "        word = 'serralheira'\n",
    "    elif word == 'mandrilagem':\n",
    "        word = 'mecânico'\n",
    "    elif word == 'colorimetrista':\n",
    "        word = 'colorista'\n",
    "    elif word == 'fresaria':\n",
    "        word = 'fresa'\n",
    "    elif word == 'traumatorpedia':\n",
    "        word = 'trauma'\n",
    "    elif word == 'neorologia':\n",
    "        word = 'neurologia'\n",
    "    elif word == 'censoriamento':\n",
    "        word = 'sensoriamento'\n",
    "    return word\n",
    "\n",
    "def clean_title(word_list):\n",
    "    return [clean_word(word) for word in word_list]\n",
    "\n",
    "title_names = list(raw_data['title'].unique())\n",
    "clean_titles = [clean_title(title) for title in final_list]"
   ]
  },
  {
   "cell_type": "code",
   "execution_count": 95,
   "metadata": {},
   "outputs": [],
   "source": [
    "from sklearn.cluster import KMeans"
   ]
  },
  {
   "cell_type": "code",
   "execution_count": 96,
   "metadata": {},
   "outputs": [],
   "source": [
    "def get_phrase_vector(phrase):\n",
    "    acumulator = np.zeros(50)\n",
    "    for word in phrase:\n",
    "        acumulator = acumulator + model.word_vec(word)\n",
    "    return np.divide(acumulator, len(phrase)) if len(phrase) != 0 else acumulator\n",
    "\n",
    "title_vectors = [ get_phrase_vector(phrase) for phrase in clean_titles]"
   ]
  },
  {
   "cell_type": "code",
   "execution_count": 97,
   "metadata": {},
   "outputs": [
    {
     "data": {
      "text/plain": [
       "array([216,  96, 178, 244, 193,  58, 293, 191, 292, 287, 221,   1, 133,\n",
       "       101,  40, 215, 247, 137, 129, 248,  58, 153, 275,  65,  69,  80,\n",
       "        74,  99, 176, 277, 187, 237, 241, 225, 159, 260, 119, 200,  21,\n",
       "       145, 266,  92,  76,  72, 242, 149,  68,  74, 108, 110,  82, 249,\n",
       "       224, 156, 135, 245, 208,  94,  77,  61,  62, 252, 171, 144, 286,\n",
       "       261, 250, 202, 219, 171, 105, 278, 106,   5, 232, 189,  43, 201,\n",
       "       117,  19,  66,  10,  75,   7,  36, 106,  73, 228, 154, 214, 234,\n",
       "       246, 248, 175, 291, 298, 235,  48, 238,  18, 111, 120,  64,  55,\n",
       "        24, 198,  78,  89, 295, 117,  51, 258, 196,  86,  28, 254,  71,\n",
       "        95, 121, 140,  34, 271,  35, 114, 116,  59,  39, 190,   4, 182,\n",
       "         4, 103, 212, 296,  38,  54, 276, 267, 269, 239,   0, 126,   8,\n",
       "       259, 209, 281, 125, 102,  16,   6,  15, 100, 285, 185,  84, 268,\n",
       "        70, 147, 184, 233, 143,  50, 257,  27, 166, 160,  83, 290, 132,\n",
       "        20,  13,  53,  24,  60, 243, 227,  11, 204, 203,  81,  22,  63,\n",
       "        23, 288, 262, 112, 177,  91,  31,  46, 136,  22, 280,  49, 264,\n",
       "        12, 263,  93, 220,   2, 272, 138,  24, 113, 205,  47,   5, 115,\n",
       "       118,  25, 174, 123, 131,  97, 128, 155, 124, 179,   9, 279, 151,\n",
       "       170, 256, 289,  45, 222,  44,  17, 213, 188, 164,  30, 282, 141,\n",
       "       211,  22, 206, 160, 134, 107, 195, 199, 194, 270, 183, 163, 127,\n",
       "       299, 283, 167,  37, 218,  98, 158, 109, 223,  52, 229,  64,  87,\n",
       "       146,  22, 274, 207, 186, 294, 172, 230,  41, 165,  29, 265, 180,\n",
       "       162, 251, 273, 130, 142,  57,  56, 192,  85, 173, 255,  90, 168,\n",
       "         6,   5,  24,   6,  79,  33,  14, 231, 150,  22,  26, 197, 236,\n",
       "       253, 217, 169, 284,  42,  67, 240,   4, 161,   3, 122, 148, 297,\n",
       "       152,  32, 226, 104,  88, 181, 157, 139, 210])"
      ]
     },
     "execution_count": 97,
     "metadata": {},
     "output_type": "execute_result"
    }
   ],
   "source": [
    "kmeans = KMeans(n_clusters=300 ,random_state=42).fit(title_vectors)\n",
    "kmeans.labels_"
   ]
  },
  {
   "cell_type": "code",
   "execution_count": 98,
   "metadata": {},
   "outputs": [
    {
     "name": "stdout",
     "output_type": "stream",
     "text": [
      "Candidato de Manutenção de Maquinaria\n"
     ]
    }
   ],
   "source": [
    "cluster = kmeans.predict(get_phrase_vector(['manutenção']).reshape(-1,50))\n",
    "index = np.where(kmeans.labels_ == cluster)\n",
    "for i in index[0]:\n",
    "    print(title_names[i])"
   ]
  },
  {
   "cell_type": "code",
   "execution_count": 99,
   "metadata": {},
   "outputs": [
    {
     "data": {
      "text/plain": [
       "['contabilidade']"
      ]
     },
     "metadata": {},
     "output_type": "display_data"
    },
    {
     "data": {
      "text/plain": [
       "array([ 0.107176,  0.307806, -0.257309,  0.218156,  0.053398,  0.39165 ,\n",
       "        0.102445, -0.130696,  0.124261,  0.313528, -0.01023 ,  0.038352,\n",
       "        0.115566,  0.248606, -0.118287,  0.410848, -0.085927,  0.136183,\n",
       "       -0.569552,  0.265026, -0.502153,  0.112177, -0.192168,  0.307524,\n",
       "       -0.305401, -0.288788,  0.041757, -0.010879, -0.266819,  0.171607,\n",
       "        0.335651, -0.153568, -0.025703, -0.48954 ,  0.215752,  0.110026,\n",
       "       -0.356865, -0.080168,  0.332134, -0.018578,  0.099627,  0.33376 ,\n",
       "        0.152203, -0.018246, -0.515894, -0.290571, -0.068779,  0.092988,\n",
       "       -0.335309,  0.088523], dtype=float32)"
      ]
     },
     "execution_count": 99,
     "metadata": {},
     "output_type": "execute_result"
    }
   ],
   "source": [
    "display(clean_titles[0])\n",
    "model.word_vec(clean_titles[0][0])"
   ]
  },
  {
   "cell_type": "code",
   "execution_count": 100,
   "metadata": {},
   "outputs": [
    {
     "data": {
      "text/plain": [
       "array([-0.171098, -0.211437, -0.0406  , -0.25863 ,  0.099055, -0.083413,\n",
       "        0.001604, -0.157318,  0.294888,  0.275117, -0.332538,  0.102064,\n",
       "       -0.261761,  0.061627,  0.023133,  0.306068, -0.198975, -0.086375,\n",
       "        0.063773,  0.129837, -0.4425  ,  1.058497, -0.030719,  0.542897,\n",
       "        0.303192, -0.066534,  0.284432, -0.002667,  0.061529,  0.137891,\n",
       "        0.054927, -0.20466 ,  0.289955,  0.068958, -0.447869,  0.416748,\n",
       "        0.46535 , -0.348347, -0.413268,  0.445893, -0.193363,  0.190303,\n",
       "       -0.139398, -0.018587,  0.209661, -0.178953,  0.357544,  0.139055,\n",
       "        0.121369, -0.131245], dtype=float32)"
      ]
     },
     "metadata": {},
     "output_type": "display_data"
    },
    {
     "data": {
      "text/plain": [
       "array([ 0.124733,  0.104939,  0.373799, -0.020229,  0.287824, -0.298393,\n",
       "       -0.010846, -0.183719,  0.446023,  0.386821, -0.201856,  0.205284,\n",
       "       -0.403549, -0.115055,  0.217655,  0.178497, -0.19751 , -0.152529,\n",
       "        0.026868, -0.124246, -0.171037,  0.505091, -0.201456,  0.42194 ,\n",
       "        0.222594, -0.144888, -0.01132 , -0.167962,  0.175373,  0.104832,\n",
       "        0.485471,  0.199978,  0.489813,  0.235639,  0.080489,  0.467274,\n",
       "        0.227337, -0.181196, -0.279548,  0.477372, -0.032982,  0.121284,\n",
       "        0.130649, -0.216834,  0.749901,  0.237159,  0.09029 , -0.041777,\n",
       "       -0.192291,  0.324513], dtype=float32)"
      ]
     },
     "metadata": {},
     "output_type": "display_data"
    },
    {
     "data": {
      "text/plain": [
       "array([-0.04636499, -0.106498  ,  0.333199  , -0.27885902,  0.386879  ,\n",
       "       -0.38180602, -0.009242  , -0.34103698,  0.740911  ,  0.661938  ,\n",
       "       -0.534394  ,  0.307348  , -0.66531   , -0.053428  ,  0.240788  ,\n",
       "        0.48456502, -0.396485  , -0.238904  ,  0.090641  ,  0.00559101,\n",
       "       -0.613537  ,  1.5635879 , -0.232175  ,  0.96483696,  0.525786  ,\n",
       "       -0.211422  ,  0.273112  , -0.170629  ,  0.236902  ,  0.24272299,\n",
       "        0.540398  , -0.004682  ,  0.779768  ,  0.30459702, -0.36738   ,\n",
       "        0.884022  ,  0.69268703, -0.52954304, -0.692816  ,  0.923265  ,\n",
       "       -0.226345  ,  0.311587  , -0.00874899, -0.235421  ,  0.959562  ,\n",
       "        0.05820599,  0.447834  ,  0.097278  , -0.07092201,  0.19326799],\n",
       "      dtype=float32)"
      ]
     },
     "metadata": {},
     "output_type": "display_data"
    }
   ],
   "source": [
    "embeding1 = model.word_vec('casamento')\n",
    "embeding2 = model.word_vec('anel')\n",
    "display(embeding1)\n",
    "display(embeding2)\n",
    "display(embeding1 + embeding2)"
   ]
  },
  {
   "cell_type": "markdown",
   "metadata": {},
   "source": [
    "### Language Treat"
   ]
  },
  {
   "cell_type": "code",
   "execution_count": 101,
   "metadata": {},
   "outputs": [],
   "source": [
    "languages_dicts = raw_data['language'].unique()\n",
    "languages_dicts = [language_dict for language_dict in languages_dicts if language_dict]"
   ]
  },
  {
   "cell_type": "code",
   "execution_count": 102,
   "metadata": {},
   "outputs": [],
   "source": [
    "all_languages = np.array([])\n",
    "for languages in languages_dicts:\n",
    "    language_dict = json.loads(languages)\n",
    "    for language in language_dict:\n",
    "        all_languages = np.append(all_languages,language['language'])"
   ]
  },
  {
   "cell_type": "code",
   "execution_count": 103,
   "metadata": {},
   "outputs": [],
   "source": [
    "lazy_unique = np.unique([(language) for language in all_languages])\n",
    "dirty_ingles = lazy_unique[22]\n",
    "dirty_portugues = lazy_unique[33]\n",
    "lazy_unique = np.delete(lazy_unique,[0, 22, 33])\n",
    "classes = lazy_unique"
   ]
  },
  {
   "cell_type": "code",
   "execution_count": 104,
   "metadata": {},
   "outputs": [],
   "source": [
    "language_features = get_language_feature(raw_data, 'language', classes, 'language_', dirty_portugues, dirty_ingles)\n",
    "treated_dataset = pd.concat([treated_dataset,language_features], axis=1)"
   ]
  },
  {
   "cell_type": "code",
   "execution_count": 105,
   "metadata": {},
   "outputs": [
    {
     "data": {
      "text/html": [
       "<div>\n",
       "<style scoped>\n",
       "    .dataframe tbody tr th:only-of-type {\n",
       "        vertical-align: middle;\n",
       "    }\n",
       "\n",
       "    .dataframe tbody tr th {\n",
       "        vertical-align: top;\n",
       "    }\n",
       "\n",
       "    .dataframe thead th {\n",
       "        text-align: right;\n",
       "    }\n",
       "</style>\n",
       "<table border=\"1\" class=\"dataframe\">\n",
       "  <thead>\n",
       "    <tr style=\"text-align: right;\">\n",
       "      <th></th>\n",
       "      <th>language_Inglês</th>\n",
       "      <th>language_Português</th>\n",
       "    </tr>\n",
       "    <tr>\n",
       "      <th>id</th>\n",
       "      <th></th>\n",
       "      <th></th>\n",
       "    </tr>\n",
       "  </thead>\n",
       "  <tbody>\n",
       "    <tr>\n",
       "      <th>1</th>\n",
       "      <td>True</td>\n",
       "      <td>True</td>\n",
       "    </tr>\n",
       "    <tr>\n",
       "      <th>2</th>\n",
       "      <td>True</td>\n",
       "      <td>True</td>\n",
       "    </tr>\n",
       "    <tr>\n",
       "      <th>3</th>\n",
       "      <td>True</td>\n",
       "      <td>True</td>\n",
       "    </tr>\n",
       "    <tr>\n",
       "      <th>4</th>\n",
       "      <td>True</td>\n",
       "      <td>True</td>\n",
       "    </tr>\n",
       "    <tr>\n",
       "      <th>5</th>\n",
       "      <td>False</td>\n",
       "      <td>True</td>\n",
       "    </tr>\n",
       "  </tbody>\n",
       "</table>\n",
       "</div>"
      ],
      "text/plain": [
       "    language_Inglês  language_Português\n",
       "id                                     \n",
       "1              True                True\n",
       "2              True                True\n",
       "3              True                True\n",
       "4              True                True\n",
       "5             False                True"
      ]
     },
     "execution_count": 105,
     "metadata": {},
     "output_type": "execute_result"
    }
   ],
   "source": [
    "language_features[['language_Inglês', 'language_Português']].head()"
   ]
  },
  {
   "cell_type": "code",
   "execution_count": 106,
   "metadata": {},
   "outputs": [
    {
     "data": {
      "text/plain": [
       "array(['[{\"level\": \"Intermediário\", \"language\": \"Inglês\"}, {\"level\": \"Nativo\", \"language\": \"Português\"}, {\"level\": \"Básico\", \"language\": \"Espanhol\"}]',\n",
       "       '[{\"level\": \"Avançado\", \"language\": \"Inglês\"}, {\"level\": \"Nativo\", \"language\": \"Português\"}]',\n",
       "       '[{\"level\": \"Intermediário\", \"language\": \"Inglês\"}, {\"level\": \"Nativo\", \"language\": \"Português\"}]',\n",
       "       '[{\"level\": \"Intermediário\", \"language\": \"Inglês\"}, {\"level\": \"Nativo\", \"language\": \"Português\"}]',\n",
       "       '[{\"level\": \"Intermediário\", \"language\": \"Português\"}]'],\n",
       "      dtype=object)"
      ]
     },
     "execution_count": 106,
     "metadata": {},
     "output_type": "execute_result"
    }
   ],
   "source": [
    "raw_data['language'].head().values"
   ]
  },
  {
   "cell_type": "markdown",
   "metadata": {},
   "source": [
    "### Location Treat"
   ]
  },
  {
   "cell_type": "code",
   "execution_count": 107,
   "metadata": {},
   "outputs": [
    {
     "data": {
      "text/html": [
       "<div>\n",
       "<style scoped>\n",
       "    .dataframe tbody tr th:only-of-type {\n",
       "        vertical-align: middle;\n",
       "    }\n",
       "\n",
       "    .dataframe tbody tr th {\n",
       "        vertical-align: top;\n",
       "    }\n",
       "\n",
       "    .dataframe thead th {\n",
       "        text-align: right;\n",
       "    }\n",
       "</style>\n",
       "<table border=\"1\" class=\"dataframe\">\n",
       "  <thead>\n",
       "    <tr style=\"text-align: right;\">\n",
       "      <th></th>\n",
       "      <th>age</th>\n",
       "      <th>count</th>\n",
       "    </tr>\n",
       "    <tr>\n",
       "      <th>location</th>\n",
       "      <th></th>\n",
       "      <th></th>\n",
       "    </tr>\n",
       "  </thead>\n",
       "  <tbody>\n",
       "    <tr>\n",
       "      <th>Centro, Curitiba - PR</th>\n",
       "      <td>334116</td>\n",
       "      <td>13703</td>\n",
       "    </tr>\n",
       "    <tr>\n",
       "      <th>Cidade Industrial, Curitiba - PR</th>\n",
       "      <td>227783</td>\n",
       "      <td>9729</td>\n",
       "    </tr>\n",
       "    <tr>\n",
       "      <th>Sítio Cercado, Curitiba - PR</th>\n",
       "      <td>151700</td>\n",
       "      <td>6510</td>\n",
       "    </tr>\n",
       "    <tr>\n",
       "      <th>Cajuru, Curitiba - PR</th>\n",
       "      <td>117833</td>\n",
       "      <td>4943</td>\n",
       "    </tr>\n",
       "    <tr>\n",
       "      <th>Boqueirão, Curitiba - PR</th>\n",
       "      <td>99511</td>\n",
       "      <td>4121</td>\n",
       "    </tr>\n",
       "    <tr>\n",
       "      <th>Uberaba, Curitiba - PR</th>\n",
       "      <td>85292</td>\n",
       "      <td>3609</td>\n",
       "    </tr>\n",
       "    <tr>\n",
       "      <th>Xaxim, Curitiba - PR</th>\n",
       "      <td>76205</td>\n",
       "      <td>3174</td>\n",
       "    </tr>\n",
       "    <tr>\n",
       "      <th>Pinheirinho, Curitiba - PR</th>\n",
       "      <td>70399</td>\n",
       "      <td>2956</td>\n",
       "    </tr>\n",
       "    <tr>\n",
       "      <th>Tatuquara, Curitiba - PR</th>\n",
       "      <td>61337</td>\n",
       "      <td>2718</td>\n",
       "    </tr>\n",
       "    <tr>\n",
       "      <th>Novo Mundo, Curitiba - PR</th>\n",
       "      <td>61855</td>\n",
       "      <td>2530</td>\n",
       "    </tr>\n",
       "    <tr>\n",
       "      <th>Alto Boqueirão, Curitiba - PR</th>\n",
       "      <td>60218</td>\n",
       "      <td>2521</td>\n",
       "    </tr>\n",
       "    <tr>\n",
       "      <th>Bairro Alto, Curitiba - PR</th>\n",
       "      <td>57190</td>\n",
       "      <td>2352</td>\n",
       "    </tr>\n",
       "    <tr>\n",
       "      <th>Portão, Curitiba - PR</th>\n",
       "      <td>56189</td>\n",
       "      <td>2236</td>\n",
       "    </tr>\n",
       "    <tr>\n",
       "      <th>Capão Raso, Curitiba - PR</th>\n",
       "      <td>53904</td>\n",
       "      <td>2223</td>\n",
       "    </tr>\n",
       "    <tr>\n",
       "      <th>Água Verde, Curitiba - PR</th>\n",
       "      <td>52182</td>\n",
       "      <td>2009</td>\n",
       "    </tr>\n",
       "    <tr>\n",
       "      <th>Santa Cândida, Curitiba - PR</th>\n",
       "      <td>46564</td>\n",
       "      <td>1916</td>\n",
       "    </tr>\n",
       "    <tr>\n",
       "      <th>Campo de Santana, Curitiba - PR</th>\n",
       "      <td>36715</td>\n",
       "      <td>1620</td>\n",
       "    </tr>\n",
       "    <tr>\n",
       "      <th>Campo Comprido, Curitiba - PR</th>\n",
       "      <td>37162</td>\n",
       "      <td>1514</td>\n",
       "    </tr>\n",
       "    <tr>\n",
       "      <th>Fazendinha, Curitiba - PR</th>\n",
       "      <td>35031</td>\n",
       "      <td>1451</td>\n",
       "    </tr>\n",
       "    <tr>\n",
       "      <th>Boa Vista, Curitiba - PR</th>\n",
       "      <td>36330</td>\n",
       "      <td>1439</td>\n",
       "    </tr>\n",
       "    <tr>\n",
       "      <th>Pilarzinho, Curitiba - PR</th>\n",
       "      <td>32657</td>\n",
       "      <td>1345</td>\n",
       "    </tr>\n",
       "    <tr>\n",
       "      <th>Santa Felicidade, Curitiba - PR</th>\n",
       "      <td>32741</td>\n",
       "      <td>1328</td>\n",
       "    </tr>\n",
       "    <tr>\n",
       "      <th>Rebouças, Curitiba - PR</th>\n",
       "      <td>28340</td>\n",
       "      <td>1139</td>\n",
       "    </tr>\n",
       "    <tr>\n",
       "      <th>Capão da Imbuia, Curitiba - PR</th>\n",
       "      <td>25587</td>\n",
       "      <td>1057</td>\n",
       "    </tr>\n",
       "    <tr>\n",
       "      <th>São Braz, Curitiba - PR</th>\n",
       "      <td>24625</td>\n",
       "      <td>1025</td>\n",
       "    </tr>\n",
       "    <tr>\n",
       "      <th>Bacacheri, Curitiba - PR</th>\n",
       "      <td>24153</td>\n",
       "      <td>953</td>\n",
       "    </tr>\n",
       "    <tr>\n",
       "      <th>Bigorrilho, Curitiba - PR</th>\n",
       "      <td>23943</td>\n",
       "      <td>917</td>\n",
       "    </tr>\n",
       "    <tr>\n",
       "      <th>Barreirinha, Curitiba - PR</th>\n",
       "      <td>21833</td>\n",
       "      <td>898</td>\n",
       "    </tr>\n",
       "    <tr>\n",
       "      <th>Umbará, Curitiba - PR</th>\n",
       "      <td>20059</td>\n",
       "      <td>882</td>\n",
       "    </tr>\n",
       "    <tr>\n",
       "      <th>Atuba, Curitiba - PR</th>\n",
       "      <td>20623</td>\n",
       "      <td>863</td>\n",
       "    </tr>\n",
       "    <tr>\n",
       "      <th>...</th>\n",
       "      <td>...</td>\n",
       "      <td>...</td>\n",
       "    </tr>\n",
       "    <tr>\n",
       "      <th>Cascatinha, Curitiba - PR</th>\n",
       "      <td>1127</td>\n",
       "      <td>46</td>\n",
       "    </tr>\n",
       "    <tr>\n",
       "      <th>Lamenha Pequena, Curitiba - PR</th>\n",
       "      <td>251</td>\n",
       "      <td>12</td>\n",
       "    </tr>\n",
       "    <tr>\n",
       "      <th>São Miguel, Curitiba - PR</th>\n",
       "      <td>260</td>\n",
       "      <td>11</td>\n",
       "    </tr>\n",
       "    <tr>\n",
       "      <th>Alto da rua XV, Curitiba - PR</th>\n",
       "      <td>244</td>\n",
       "      <td>10</td>\n",
       "    </tr>\n",
       "    <tr>\n",
       "      <th>Riviera, Curitiba - PR</th>\n",
       "      <td>198</td>\n",
       "      <td>8</td>\n",
       "    </tr>\n",
       "    <tr>\n",
       "      <th>Alto da Rua XV , Curitiba - PR</th>\n",
       "      <td>136</td>\n",
       "      <td>5</td>\n",
       "    </tr>\n",
       "    <tr>\n",
       "      <th>Merces, Curitiba - PR</th>\n",
       "      <td>76</td>\n",
       "      <td>3</td>\n",
       "    </tr>\n",
       "    <tr>\n",
       "      <th>Parque dos Camargos, Curitiba - PR</th>\n",
       "      <td>61</td>\n",
       "      <td>3</td>\n",
       "    </tr>\n",
       "    <tr>\n",
       "      <th>Centro, Cascavel - PR</th>\n",
       "      <td>70</td>\n",
       "      <td>2</td>\n",
       "    </tr>\n",
       "    <tr>\n",
       "      <th>Centro, Londrina - PR</th>\n",
       "      <td>65</td>\n",
       "      <td>2</td>\n",
       "    </tr>\n",
       "    <tr>\n",
       "      <th>Jardim Mediterrâneo, Colombo - PR</th>\n",
       "      <td>66</td>\n",
       "      <td>2</td>\n",
       "    </tr>\n",
       "    <tr>\n",
       "      <th>Alto Boqueir��o, Curitiba - PR</th>\n",
       "      <td>28</td>\n",
       "      <td>1</td>\n",
       "    </tr>\n",
       "    <tr>\n",
       "      <th>S��o Lourenço, Curitiba - PR</th>\n",
       "      <td>27</td>\n",
       "      <td>1</td>\n",
       "    </tr>\n",
       "    <tr>\n",
       "      <th>Alto da Rua Quinze, Curitiba - PR</th>\n",
       "      <td>25</td>\n",
       "      <td>1</td>\n",
       "    </tr>\n",
       "    <tr>\n",
       "      <th>Fazenda Rio Grande - PR</th>\n",
       "      <td>52</td>\n",
       "      <td>1</td>\n",
       "    </tr>\n",
       "    <tr>\n",
       "      <th>Porecatu - PR</th>\n",
       "      <td>37</td>\n",
       "      <td>1</td>\n",
       "    </tr>\n",
       "    <tr>\n",
       "      <th>Santa Helena - PR</th>\n",
       "      <td>38</td>\n",
       "      <td>1</td>\n",
       "    </tr>\n",
       "    <tr>\n",
       "      <th>Boqueir��o, Curitiba - PR</th>\n",
       "      <td>28</td>\n",
       "      <td>1</td>\n",
       "    </tr>\n",
       "    <tr>\n",
       "      <th>Rio Negro - PR</th>\n",
       "      <td>34</td>\n",
       "      <td>1</td>\n",
       "    </tr>\n",
       "    <tr>\n",
       "      <th>Presidente Castelo Branco - PR</th>\n",
       "      <td>47</td>\n",
       "      <td>1</td>\n",
       "    </tr>\n",
       "    <tr>\n",
       "      <th>Pitanga - PR</th>\n",
       "      <td>45</td>\n",
       "      <td>1</td>\n",
       "    </tr>\n",
       "    <tr>\n",
       "      <th>Pineville, Pinhais - PR</th>\n",
       "      <td>31</td>\n",
       "      <td>1</td>\n",
       "    </tr>\n",
       "    <tr>\n",
       "      <th>Nova Esperança - PR</th>\n",
       "      <td>117</td>\n",
       "      <td>1</td>\n",
       "    </tr>\n",
       "    <tr>\n",
       "      <th>Mariópolis - PR</th>\n",
       "      <td>38</td>\n",
       "      <td>1</td>\n",
       "    </tr>\n",
       "    <tr>\n",
       "      <th>Adrianópolis - PR</th>\n",
       "      <td>35</td>\n",
       "      <td>1</td>\n",
       "    </tr>\n",
       "    <tr>\n",
       "      <th>Ibaiti - PR</th>\n",
       "      <td>32</td>\n",
       "      <td>1</td>\n",
       "    </tr>\n",
       "    <tr>\n",
       "      <th>Centro, Ponta Grossa - PR</th>\n",
       "      <td>42</td>\n",
       "      <td>1</td>\n",
       "    </tr>\n",
       "    <tr>\n",
       "      <th>Centro, São José dos Pinhais - PR</th>\n",
       "      <td>52</td>\n",
       "      <td>1</td>\n",
       "    </tr>\n",
       "    <tr>\n",
       "      <th>Cornélio Procópio - PR</th>\n",
       "      <td>55</td>\n",
       "      <td>1</td>\n",
       "    </tr>\n",
       "    <tr>\n",
       "      <th>Iguaçu, Araucária - PR</th>\n",
       "      <td>53</td>\n",
       "      <td>1</td>\n",
       "    </tr>\n",
       "  </tbody>\n",
       "</table>\n",
       "<p>101 rows × 2 columns</p>\n",
       "</div>"
      ],
      "text/plain": [
       "                                       age  count\n",
       "location                                         \n",
       "Centro, Curitiba - PR               334116  13703\n",
       "Cidade Industrial, Curitiba - PR    227783   9729\n",
       "Sítio Cercado, Curitiba - PR        151700   6510\n",
       "Cajuru, Curitiba - PR               117833   4943\n",
       "Boqueirão, Curitiba - PR             99511   4121\n",
       "Uberaba, Curitiba - PR               85292   3609\n",
       "Xaxim, Curitiba - PR                 76205   3174\n",
       "Pinheirinho, Curitiba - PR           70399   2956\n",
       "Tatuquara, Curitiba - PR             61337   2718\n",
       "Novo Mundo, Curitiba - PR            61855   2530\n",
       "Alto Boqueirão, Curitiba - PR        60218   2521\n",
       "Bairro Alto, Curitiba - PR           57190   2352\n",
       "Portão, Curitiba - PR                56189   2236\n",
       "Capão Raso, Curitiba - PR            53904   2223\n",
       "Água Verde, Curitiba - PR            52182   2009\n",
       "Santa Cândida, Curitiba - PR         46564   1916\n",
       "Campo de Santana, Curitiba - PR      36715   1620\n",
       "Campo Comprido, Curitiba - PR        37162   1514\n",
       "Fazendinha, Curitiba - PR            35031   1451\n",
       "Boa Vista, Curitiba - PR             36330   1439\n",
       "Pilarzinho, Curitiba - PR            32657   1345\n",
       "Santa Felicidade, Curitiba - PR      32741   1328\n",
       "Rebouças, Curitiba - PR              28340   1139\n",
       "Capão da Imbuia, Curitiba - PR       25587   1057\n",
       "São Braz, Curitiba - PR              24625   1025\n",
       "Bacacheri, Curitiba - PR             24153    953\n",
       "Bigorrilho, Curitiba - PR            23943    917\n",
       "Barreirinha, Curitiba - PR           21833    898\n",
       "Umbará, Curitiba - PR                20059    882\n",
       "Atuba, Curitiba - PR                 20623    863\n",
       "...                                    ...    ...\n",
       "Cascatinha, Curitiba - PR             1127     46\n",
       "Lamenha Pequena, Curitiba - PR         251     12\n",
       "São Miguel, Curitiba - PR              260     11\n",
       "Alto da rua XV, Curitiba - PR          244     10\n",
       "Riviera, Curitiba - PR                 198      8\n",
       "Alto da Rua XV , Curitiba - PR         136      5\n",
       "Merces, Curitiba - PR                   76      3\n",
       "Parque dos Camargos, Curitiba - PR      61      3\n",
       "Centro, Cascavel - PR                   70      2\n",
       "Centro, Londrina - PR                   65      2\n",
       "Jardim Mediterrâneo, Colombo - PR       66      2\n",
       "Alto Boqueir��o, Curitiba - PR          28      1\n",
       "S��o Lourenço, Curitiba - PR            27      1\n",
       "Alto da Rua Quinze, Curitiba - PR       25      1\n",
       "Fazenda Rio Grande - PR                 52      1\n",
       "Porecatu - PR                           37      1\n",
       "Santa Helena - PR                       38      1\n",
       "Boqueir��o, Curitiba - PR               28      1\n",
       "Rio Negro - PR                          34      1\n",
       "Presidente Castelo Branco - PR          47      1\n",
       "Pitanga - PR                            45      1\n",
       "Pineville, Pinhais - PR                 31      1\n",
       "Nova Esperança - PR                    117      1\n",
       "Mariópolis - PR                         38      1\n",
       "Adrianópolis - PR                       35      1\n",
       "Ibaiti - PR                             32      1\n",
       "Centro, Ponta Grossa - PR               42      1\n",
       "Centro, São José dos Pinhais - PR       52      1\n",
       "Cornélio Procópio - PR                  55      1\n",
       "Iguaçu, Araucária - PR                  53      1\n",
       "\n",
       "[101 rows x 2 columns]"
      ]
     },
     "execution_count": 107,
     "metadata": {},
     "output_type": "execute_result"
    }
   ],
   "source": [
    "experimentation = raw_data.copy()\n",
    "experimentation['count'] = 1\n",
    "experimentation.groupby('location').sum().sort_values('count', ascending=False)"
   ]
  },
  {
   "cell_type": "code",
   "execution_count": 108,
   "metadata": {},
   "outputs": [],
   "source": [
    "test_db = [ {'age':resume['age'], 'id': resume['id'], 'professional_goals_working_hours': resume['professional_goals_working_hours'], 'sex':resume['sex'], 'title': resume['title']} for resume in db]"
   ]
  },
  {
   "cell_type": "code",
   "execution_count": 109,
   "metadata": {},
   "outputs": [
    {
     "data": {
      "text/plain": [
       "{'age': 49,\n",
       " 'id': 1,\n",
       " 'professional_goals_working_hours': 'Período Integral',\n",
       " 'sex': 'Não Especificado',\n",
       " 'title': 'Candidato de Contabilidade'}"
      ]
     },
     "execution_count": 109,
     "metadata": {},
     "output_type": "execute_result"
    }
   ],
   "source": [
    "test_db[0]"
   ]
  },
  {
   "cell_type": "markdown",
   "metadata": {},
   "source": [
    "### Output Treated Dataset"
   ]
  },
  {
   "cell_type": "code",
   "execution_count": 110,
   "metadata": {},
   "outputs": [],
   "source": [
    "with open('treated_data.json', 'w') as outfile:\n",
    "    json.dump(test_db, outfile)"
   ]
  },
  {
   "cell_type": "code",
   "execution_count": 111,
   "metadata": {},
   "outputs": [],
   "source": [
    "output_dataset = treated_dataset.reset_index()\n",
    "output_dataset.to_csv('treated_dataset.csv')"
   ]
  },
  {
   "cell_type": "code",
   "execution_count": 112,
   "metadata": {},
   "outputs": [
    {
     "data": {
      "text/plain": [
       "Index(['id', 'age', 'professional_goals_salary_min',\n",
       "       'professional_goals_salary_max', 'professional_goals_contract_type',\n",
       "       'professional_goals_working_hours', 'complementary_data_travel',\n",
       "       'complementary_data_residence', 'driving_A', 'driving_B', 'driving_C',\n",
       "       'driving_D', 'driving_E', 'vehicle_Carro particular', 'vehicle_Moto',\n",
       "       'vehicle_Caminhão', 'vehicle_Outro', 'language_Afrikaans',\n",
       "       'language_Alemão', 'language_Bengalí', 'language_Cantonês',\n",
       "       'language_Catalão', 'language_Chinês', 'language_Coreano',\n",
       "       'language_Croato', 'language_Dinamarquês', 'language_Eslovaco',\n",
       "       'language_Espanhol', 'language_Farsi', 'language_Finlandês',\n",
       "       'language_Francês', 'language_Galego', 'language_Grego',\n",
       "       'language_Hebraico', 'language_Holandês', 'language_Húngaro',\n",
       "       'language_Indonésio', 'language_Inglês', 'language_Islandês',\n",
       "       'language_Italiano', 'language_Japonês', 'language_Latin',\n",
       "       'language_Latviano', 'language_Libras', 'language_Mandarin',\n",
       "       'language_Noruego', 'language_Polonês', 'language_Português',\n",
       "       'language_Punjabi', 'language_Romano', 'language_Russo',\n",
       "       'language_Sueco', 'language_Swahili', 'language_Sânscrito',\n",
       "       'language_Tagalog', 'language_Taiwanês', 'language_Tcheco',\n",
       "       'language_Thai', 'language_Turco', 'language_Ucraniano',\n",
       "       'language_Urdu', 'language_Vasco', 'language_Vietnamita',\n",
       "       'language_Árabe', 'language_Índio'],\n",
       "      dtype='object')"
      ]
     },
     "execution_count": 112,
     "metadata": {},
     "output_type": "execute_result"
    }
   ],
   "source": [
    "output_dataset.columns"
   ]
  },
  {
   "cell_type": "code",
   "execution_count": null,
   "metadata": {},
   "outputs": [],
   "source": []
  }
 ],
 "metadata": {
  "kernelspec": {
   "display_name": "Python 3",
   "language": "python",
   "name": "python3"
  },
  "language_info": {
   "codemirror_mode": {
    "name": "ipython",
    "version": 3
   },
   "file_extension": ".py",
   "mimetype": "text/x-python",
   "name": "python",
   "nbconvert_exporter": "python",
   "pygments_lexer": "ipython3",
   "version": "3.7.0"
  }
 },
 "nbformat": 4,
 "nbformat_minor": 2
}

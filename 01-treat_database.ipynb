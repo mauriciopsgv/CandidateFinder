{
 "cells": [
  {
   "cell_type": "markdown",
   "metadata": {},
   "source": [
    "# Treating database"
   ]
  },
  {
   "cell_type": "markdown",
   "metadata": {},
   "source": [
    "### Importing database"
   ]
  },
  {
   "cell_type": "code",
   "execution_count": 3,
   "metadata": {},
   "outputs": [],
   "source": [
    "import json\n",
    "import pandas as pd\n",
    "import numpy as np\n",
    "from sklearn.impute import SimpleImputer\n",
    "\n",
    "from ast import literal_eval\n",
    "from unidecode import unidecode"
   ]
  },
  {
   "cell_type": "code",
   "execution_count": 4,
   "metadata": {},
   "outputs": [
    {
     "data": {
      "text/plain": [
       "[{'id': 1,\n",
       "  'title': 'Candidato de Contabilidade',\n",
       "  'age': 49,\n",
       "  'location': 'Centro, Curitiba - PR',\n",
       "  'professional_goals_salary': '{\"max\": 0.0, \"min\": 0.0}',\n",
       "  'professional_goals_contract_type': None,\n",
       "  'professional_goals_working_hours': 'Período Integral',\n",
       "  'education': '[{\"dateEnd\": \"2003-11-01\", \"dateInit\": \"2003-02-01\", \"courseName\": \"Curso extra-curricular / Profissionalizante  em Contabilidade para executivos\", \"educationInstitutionName\": \"UNICENP em PR\"}, {\"dateEnd\": \"1989-12-01\", \"dateInit\": \"1985-02-01\", \"courseName\": \"Ensino Superior em Ciências contábeis\", \"educationInstitutionName\": \"FESP-Fundação de estudos Sociais do Parana em PR\"}, {\"dateEnd\": \"1984-11-01\", \"dateInit\": \"1982-02-01\", \"courseName\": \"Curso Técnico em Contabilidade\", \"educationInstitutionName\": \"CEPC-Centro de Estudos Profission.de Curitiba em PR\"}]',\n",
       "  'work_experience': '[{\"field\": \"Contábil, Finanças, Economia\", \"level\": null, \"title\": \"CONTADOR\", \"dateEnd\": \"2006-12-01\", \"dateInit\": \"2005-03-01\", \"position\": \"Contabilidade\", \"description\": \"\"}, {\"field\": \"Contábil, Finanças, Economia\", \"level\": null, \"title\": \"CONTADOR\", \"dateEnd\": \"2004-12-01\", \"dateInit\": \"2001-05-01\", \"position\": \"Contabilidade\", \"description\": \"\"}, {\"field\": \"Contábil, Finanças, Economia\", \"level\": null, \"title\": \"CONTADOR\", \"dateEnd\": \"2001-12-01\", \"dateInit\": \"1995-08-01\", \"position\": \"Contabilidade\", \"description\": \"\"}, {\"field\": \"Contábil, Finanças, Economia\", \"level\": null, \"title\": \"TÉCNICO CONTABIL\", \"dateEnd\": \"1995-06-01\", \"dateInit\": \"1990-04-01\", \"position\": \"Contabilidade\", \"description\": \"\"}, {\"field\": \"Contábil, Finanças, Economia\", \"level\": null, \"title\": \"SUB-CONTADOR\", \"dateEnd\": \"1990-02-01\", \"dateInit\": \"1987-01-01\", \"position\": \"Contabilidade\", \"description\": \"\"}]',\n",
       "  'language': '[{\"level\": \"Intermediário\", \"language\": \"Inglês\"}, {\"level\": \"Nativo\", \"language\": \"Português\"}, {\"level\": \"Básico\", \"language\": \"Espanhol\"}]',\n",
       "  'complementary_data': '{\"travel\": true, \"driving\": \"B\", \"vehicle\": \"Carro particular\", \"residence\": true}',\n",
       "  'sex': 'Não Especificado',\n",
       "  'marital_status': None},\n",
       " {'id': 2,\n",
       "  'title': 'Candidato de Zootecnia',\n",
       "  'age': 38,\n",
       "  'location': 'Santa Helena - PR',\n",
       "  'professional_goals_salary': '{\"max\": 0.0, \"min\": 0.0}',\n",
       "  'professional_goals_contract_type': None,\n",
       "  'professional_goals_working_hours': 'Período Integral',\n",
       "  'education': '[{\"dateEnd\": \"2005-12-01\", \"dateInit\": \"2001-02-01\", \"courseName\": \"Ensino Superior em Zootécnia\", \"educationInstitutionName\": \"Universidade Estadual do Oeste do Parana em PR\"}]',\n",
       "  'work_experience': '[{\"field\": \"Agricultura, Pecuária, Veterinária\", \"level\": null, \"title\": \"trainne\", \"dateEnd\": \"2007-09-01\", \"dateInit\": \"2006-09-01\", \"position\": \"Zootecnia\", \"description\": \"Trabalhei como lider na maternidade. Com aproximadamente 1500 matrizes. Foi um tempo maravilhoso onde aprendi muitas coisas, como  relacionamento pessoal, aplicabilidade para muita coisa que eu aprendi na faculdade, alem de ingles, cultura, etc.\"}]',\n",
       "  'language': '[{\"level\": \"Avançado\", \"language\": \"Inglês\"}, {\"level\": \"Nativo\", \"language\": \"Português\"}]',\n",
       "  'complementary_data': '{\"travel\": true, \"driving\": \"A\", \"vehicle\": \"Carro particular\", \"residence\": true}',\n",
       "  'sex': 'Não Especificado',\n",
       "  'marital_status': None},\n",
       " {'id': 3,\n",
       "  'title': 'Candidato de Hotelaria',\n",
       "  'age': 54,\n",
       "  'location': 'Centro, Curitiba - PR',\n",
       "  'professional_goals_salary': '{\"max\": 0.0, \"min\": 0.0}',\n",
       "  'professional_goals_contract_type': None,\n",
       "  'professional_goals_working_hours': 'Período Integral',\n",
       "  'education': '[{\"dateEnd\": \"1999-10-01\", \"dateInit\": \"1999-03-01\", \"courseName\": \"Pós-graduação - Especialização/MBA em escola da magistratura\", \"educationInstitutionName\": \"escola da magistratura do trabalho em PR\"}]',\n",
       "  'work_experience': '[{\"field\": \"Hotelaria, Turismo\", \"level\": null, \"title\": \"advogado\", \"dateEnd\": \"2005-10-01\", \"dateInit\": \"2000-03-01\", \"position\": \"Hotelaria\", \"description\": \"chefe do juridico\"}]',\n",
       "  'language': '[{\"level\": \"Intermediário\", \"language\": \"Inglês\"}, {\"level\": \"Nativo\", \"language\": \"Português\"}]',\n",
       "  'complementary_data': '{\"travel\": true, \"driving\": \"B\", \"vehicle\": null, \"residence\": true}',\n",
       "  'sex': 'Não Especificado',\n",
       "  'marital_status': None}]"
      ]
     },
     "execution_count": 4,
     "metadata": {},
     "output_type": "execute_result"
    }
   ],
   "source": [
    "db_file = open('resume_base.json', 'rb')\n",
    "db = json.loads(db_file.read())\n",
    "db[0:3]"
   ]
  },
  {
   "cell_type": "code",
   "execution_count": 5,
   "metadata": {},
   "outputs": [
    {
     "data": {
      "text/html": [
       "<div>\n",
       "<style scoped>\n",
       "    .dataframe tbody tr th:only-of-type {\n",
       "        vertical-align: middle;\n",
       "    }\n",
       "\n",
       "    .dataframe tbody tr th {\n",
       "        vertical-align: top;\n",
       "    }\n",
       "\n",
       "    .dataframe thead th {\n",
       "        text-align: right;\n",
       "    }\n",
       "</style>\n",
       "<table border=\"1\" class=\"dataframe\">\n",
       "  <thead>\n",
       "    <tr style=\"text-align: right;\">\n",
       "      <th></th>\n",
       "      <th>age</th>\n",
       "      <th>complementary_data</th>\n",
       "      <th>education</th>\n",
       "      <th>language</th>\n",
       "      <th>location</th>\n",
       "      <th>marital_status</th>\n",
       "      <th>professional_goals_contract_type</th>\n",
       "      <th>professional_goals_salary</th>\n",
       "      <th>professional_goals_working_hours</th>\n",
       "      <th>sex</th>\n",
       "      <th>title</th>\n",
       "      <th>work_experience</th>\n",
       "    </tr>\n",
       "    <tr>\n",
       "      <th>id</th>\n",
       "      <th></th>\n",
       "      <th></th>\n",
       "      <th></th>\n",
       "      <th></th>\n",
       "      <th></th>\n",
       "      <th></th>\n",
       "      <th></th>\n",
       "      <th></th>\n",
       "      <th></th>\n",
       "      <th></th>\n",
       "      <th></th>\n",
       "      <th></th>\n",
       "    </tr>\n",
       "  </thead>\n",
       "  <tbody>\n",
       "    <tr>\n",
       "      <th>1</th>\n",
       "      <td>49</td>\n",
       "      <td>{\"travel\": true, \"driving\": \"B\", \"vehicle\": \"C...</td>\n",
       "      <td>[{\"dateEnd\": \"2003-11-01\", \"dateInit\": \"2003-0...</td>\n",
       "      <td>[{\"level\": \"Intermediário\", \"language\": \"Inglê...</td>\n",
       "      <td>Centro, Curitiba - PR</td>\n",
       "      <td>None</td>\n",
       "      <td>None</td>\n",
       "      <td>{\"max\": 0.0, \"min\": 0.0}</td>\n",
       "      <td>Período Integral</td>\n",
       "      <td>Não Especificado</td>\n",
       "      <td>Candidato de Contabilidade</td>\n",
       "      <td>[{\"field\": \"Contábil, Finanças, Economia\", \"le...</td>\n",
       "    </tr>\n",
       "    <tr>\n",
       "      <th>2</th>\n",
       "      <td>38</td>\n",
       "      <td>{\"travel\": true, \"driving\": \"A\", \"vehicle\": \"C...</td>\n",
       "      <td>[{\"dateEnd\": \"2005-12-01\", \"dateInit\": \"2001-0...</td>\n",
       "      <td>[{\"level\": \"Avançado\", \"language\": \"Inglês\"}, ...</td>\n",
       "      <td>Santa Helena - PR</td>\n",
       "      <td>None</td>\n",
       "      <td>None</td>\n",
       "      <td>{\"max\": 0.0, \"min\": 0.0}</td>\n",
       "      <td>Período Integral</td>\n",
       "      <td>Não Especificado</td>\n",
       "      <td>Candidato de Zootecnia</td>\n",
       "      <td>[{\"field\": \"Agricultura, Pecuária, Veterinária...</td>\n",
       "    </tr>\n",
       "    <tr>\n",
       "      <th>3</th>\n",
       "      <td>54</td>\n",
       "      <td>{\"travel\": true, \"driving\": \"B\", \"vehicle\": nu...</td>\n",
       "      <td>[{\"dateEnd\": \"1999-10-01\", \"dateInit\": \"1999-0...</td>\n",
       "      <td>[{\"level\": \"Intermediário\", \"language\": \"Inglê...</td>\n",
       "      <td>Centro, Curitiba - PR</td>\n",
       "      <td>None</td>\n",
       "      <td>None</td>\n",
       "      <td>{\"max\": 0.0, \"min\": 0.0}</td>\n",
       "      <td>Período Integral</td>\n",
       "      <td>Não Especificado</td>\n",
       "      <td>Candidato de Hotelaria</td>\n",
       "      <td>[{\"field\": \"Hotelaria, Turismo\", \"level\": null...</td>\n",
       "    </tr>\n",
       "    <tr>\n",
       "      <th>4</th>\n",
       "      <td>41</td>\n",
       "      <td>{\"travel\": false, \"driving\": \"B\", \"vehicle\": \"...</td>\n",
       "      <td>[{\"dateEnd\": \"2001-09-01\", \"dateInit\": \"1997-0...</td>\n",
       "      <td>[{\"level\": \"Intermediário\", \"language\": \"Inglê...</td>\n",
       "      <td>Centro, Curitiba - PR</td>\n",
       "      <td>None</td>\n",
       "      <td>None</td>\n",
       "      <td>{\"max\": 0.0, \"min\": 0.0}</td>\n",
       "      <td>Período Integral</td>\n",
       "      <td>Não Especificado</td>\n",
       "      <td>Candidato de Marketing</td>\n",
       "      <td>[{\"field\": \"Marketing\", \"level\": null, \"title\"...</td>\n",
       "    </tr>\n",
       "    <tr>\n",
       "      <th>5</th>\n",
       "      <td>31</td>\n",
       "      <td>{\"travel\": false, \"driving\": null, \"vehicle\": ...</td>\n",
       "      <td>[{\"dateEnd\": \"2004-05-01\", \"dateInit\": \"2004-0...</td>\n",
       "      <td>[{\"level\": \"Intermediário\", \"language\": \"Portu...</td>\n",
       "      <td>Jardim Mediterrâneo, Colombo - PR</td>\n",
       "      <td>None</td>\n",
       "      <td>None</td>\n",
       "      <td>{\"max\": 0.0, \"min\": 0.0}</td>\n",
       "      <td>Período Integral</td>\n",
       "      <td>Não Especificado</td>\n",
       "      <td>Candidato de Instrumentação Industrial</td>\n",
       "      <td>[{\"field\": \"Industrial, Produção, Fábrica\", \"l...</td>\n",
       "    </tr>\n",
       "  </tbody>\n",
       "</table>\n",
       "</div>"
      ],
      "text/plain": [
       "    age                                 complementary_data  \\\n",
       "id                                                           \n",
       "1    49  {\"travel\": true, \"driving\": \"B\", \"vehicle\": \"C...   \n",
       "2    38  {\"travel\": true, \"driving\": \"A\", \"vehicle\": \"C...   \n",
       "3    54  {\"travel\": true, \"driving\": \"B\", \"vehicle\": nu...   \n",
       "4    41  {\"travel\": false, \"driving\": \"B\", \"vehicle\": \"...   \n",
       "5    31  {\"travel\": false, \"driving\": null, \"vehicle\": ...   \n",
       "\n",
       "                                            education  \\\n",
       "id                                                      \n",
       "1   [{\"dateEnd\": \"2003-11-01\", \"dateInit\": \"2003-0...   \n",
       "2   [{\"dateEnd\": \"2005-12-01\", \"dateInit\": \"2001-0...   \n",
       "3   [{\"dateEnd\": \"1999-10-01\", \"dateInit\": \"1999-0...   \n",
       "4   [{\"dateEnd\": \"2001-09-01\", \"dateInit\": \"1997-0...   \n",
       "5   [{\"dateEnd\": \"2004-05-01\", \"dateInit\": \"2004-0...   \n",
       "\n",
       "                                             language  \\\n",
       "id                                                      \n",
       "1   [{\"level\": \"Intermediário\", \"language\": \"Inglê...   \n",
       "2   [{\"level\": \"Avançado\", \"language\": \"Inglês\"}, ...   \n",
       "3   [{\"level\": \"Intermediário\", \"language\": \"Inglê...   \n",
       "4   [{\"level\": \"Intermediário\", \"language\": \"Inglê...   \n",
       "5   [{\"level\": \"Intermediário\", \"language\": \"Portu...   \n",
       "\n",
       "                             location marital_status  \\\n",
       "id                                                     \n",
       "1               Centro, Curitiba - PR           None   \n",
       "2                   Santa Helena - PR           None   \n",
       "3               Centro, Curitiba - PR           None   \n",
       "4               Centro, Curitiba - PR           None   \n",
       "5   Jardim Mediterrâneo, Colombo - PR           None   \n",
       "\n",
       "   professional_goals_contract_type professional_goals_salary  \\\n",
       "id                                                              \n",
       "1                              None  {\"max\": 0.0, \"min\": 0.0}   \n",
       "2                              None  {\"max\": 0.0, \"min\": 0.0}   \n",
       "3                              None  {\"max\": 0.0, \"min\": 0.0}   \n",
       "4                              None  {\"max\": 0.0, \"min\": 0.0}   \n",
       "5                              None  {\"max\": 0.0, \"min\": 0.0}   \n",
       "\n",
       "   professional_goals_working_hours               sex  \\\n",
       "id                                                      \n",
       "1                  Período Integral  Não Especificado   \n",
       "2                  Período Integral  Não Especificado   \n",
       "3                  Período Integral  Não Especificado   \n",
       "4                  Período Integral  Não Especificado   \n",
       "5                  Período Integral  Não Especificado   \n",
       "\n",
       "                                     title  \\\n",
       "id                                           \n",
       "1               Candidato de Contabilidade   \n",
       "2                   Candidato de Zootecnia   \n",
       "3                   Candidato de Hotelaria   \n",
       "4                   Candidato de Marketing   \n",
       "5   Candidato de Instrumentação Industrial   \n",
       "\n",
       "                                      work_experience  \n",
       "id                                                     \n",
       "1   [{\"field\": \"Contábil, Finanças, Economia\", \"le...  \n",
       "2   [{\"field\": \"Agricultura, Pecuária, Veterinária...  \n",
       "3   [{\"field\": \"Hotelaria, Turismo\", \"level\": null...  \n",
       "4   [{\"field\": \"Marketing\", \"level\": null, \"title\"...  \n",
       "5   [{\"field\": \"Industrial, Produção, Fábrica\", \"l...  "
      ]
     },
     "execution_count": 5,
     "metadata": {},
     "output_type": "execute_result"
    }
   ],
   "source": [
    "original_raw_data = pd.DataFrame(db)\n",
    "raw_data = original_raw_data.copy()\n",
    "raw_data = raw_data.set_index('id')\n",
    "raw_data.head()"
   ]
  },
  {
   "cell_type": "markdown",
   "metadata": {},
   "source": [
    "## Treating Data"
   ]
  },
  {
   "cell_type": "code",
   "execution_count": 6,
   "metadata": {},
   "outputs": [],
   "source": [
    "treated_dataset = pd.DataFrame()\n",
    "no_treatment_needed_attributes = ['age']\n",
    "treated_dataset[no_treatment_needed_attributes] = raw_data[no_treatment_needed_attributes]"
   ]
  },
  {
   "cell_type": "code",
   "execution_count": 7,
   "metadata": {},
   "outputs": [],
   "source": [
    "def swap_none_for_constant(data, column, fill_value, missing_values=None):\n",
    "    imputer = SimpleImputer(missing_values=missing_values, strategy='constant', fill_value=fill_value)\n",
    "    imputer.fit(data[column].values.reshape(-1,1))\n",
    "    data[column] = imputer.transform(data[column].values.reshape(-1,1))"
   ]
  },
  {
   "cell_type": "code",
   "execution_count": 26,
   "metadata": {},
   "outputs": [],
   "source": [
    "def one_edit_apart(s1, s2):\n",
    "    if abs(len(s1) - len(s2)) > 1:\n",
    "        return False\n",
    "    if len(s1) > len(s2):\n",
    "        bigger = s1\n",
    "        smaller = s2\n",
    "    else:\n",
    "        bigger = s2\n",
    "        smaller = s1\n",
    "\n",
    "    equal_length_strings = len(s1) == len(s2)\n",
    "    saw_difference = False\n",
    "    i = 0\n",
    "    j = 0\n",
    "    while i < len(smaller): \n",
    "        if (bigger[j] != smaller[i]):\n",
    "            if (saw_difference):\n",
    "                return False\n",
    "            saw_difference = True\n",
    "            if (not equal_length_strings):\n",
    "                i = i - 1\n",
    "        i = i + 1\n",
    "        j = j + 1\n",
    "    return True"
   ]
  },
  {
   "cell_type": "markdown",
   "metadata": {},
   "source": [
    "### Professional Goals Salary Treat"
   ]
  },
  {
   "cell_type": "markdown",
   "metadata": {},
   "source": [
    "For a first approach as it is a litterally numerical attribute we will just divide into a max and min attribute"
   ]
  },
  {
   "cell_type": "code",
   "execution_count": 8,
   "metadata": {},
   "outputs": [
    {
     "data": {
      "text/plain": [
       "array(['{\"max\": 0.0, \"min\": 0.0}', None, '{\"max\": 3000.0, \"min\": 1200.0}',\n",
       "       ..., '{\"max\": 2450.0, \"min\": 2300.0}',\n",
       "       '{\"max\": 14000.0, \"min\": 7000.0}',\n",
       "       '{\"max\": 4800.0, \"min\": 2800.0}'], dtype=object)"
      ]
     },
     "execution_count": 8,
     "metadata": {},
     "output_type": "execute_result"
    }
   ],
   "source": [
    "raw_data['professional_goals_salary'].unique()"
   ]
  },
  {
   "cell_type": "markdown",
   "metadata": {},
   "source": [
    "Tem valores de None, entao a primeira abordagem trivial é só substituir por {\"max\": 0.0, \"min\":0.0}, pode ser interessante usar a média dos valores futuramente (inclusive substituindo as atuais ocorrencias de {\"max\": 0.0, \"min\":0.0})"
   ]
  },
  {
   "cell_type": "code",
   "execution_count": 9,
   "metadata": {},
   "outputs": [
    {
     "data": {
      "text/plain": [
       "True"
      ]
     },
     "metadata": {},
     "output_type": "display_data"
    },
    {
     "data": {
      "text/plain": [
       "False"
      ]
     },
     "execution_count": 9,
     "metadata": {},
     "output_type": "execute_result"
    }
   ],
   "source": [
    "display(raw_data['professional_goals_salary'].isnull().values.any())\n",
    "swap_none_for_constant(raw_data, 'professional_goals_salary', {\"max\": 0.0, \"min\":0.0})\n",
    "raw_data['professional_goals_salary'].isnull().values.any()"
   ]
  },
  {
   "cell_type": "code",
   "execution_count": 7,
   "metadata": {},
   "outputs": [],
   "source": [
    "treated_dataset['professional_goals_salary_min'] = raw_data['professional_goals_salary'].astype(str).map(lambda v: literal_eval(v)['min'])\n",
    "treated_dataset['professional_goals_salary_max'] = raw_data['professional_goals_salary'].astype(str).map(lambda v: literal_eval(v)['max'])"
   ]
  },
  {
   "cell_type": "code",
   "execution_count": 8,
   "metadata": {},
   "outputs": [
    {
     "data": {
      "text/html": [
       "<div>\n",
       "<style scoped>\n",
       "    .dataframe tbody tr th:only-of-type {\n",
       "        vertical-align: middle;\n",
       "    }\n",
       "\n",
       "    .dataframe tbody tr th {\n",
       "        vertical-align: top;\n",
       "    }\n",
       "\n",
       "    .dataframe thead th {\n",
       "        text-align: right;\n",
       "    }\n",
       "</style>\n",
       "<table border=\"1\" class=\"dataframe\">\n",
       "  <thead>\n",
       "    <tr style=\"text-align: right;\">\n",
       "      <th></th>\n",
       "      <th>professional_goals_salary_min</th>\n",
       "      <th>professional_goals_salary_max</th>\n",
       "    </tr>\n",
       "    <tr>\n",
       "      <th>id</th>\n",
       "      <th></th>\n",
       "      <th></th>\n",
       "    </tr>\n",
       "  </thead>\n",
       "  <tbody>\n",
       "    <tr>\n",
       "      <th>577</th>\n",
       "      <td>400.0</td>\n",
       "      <td>750.0</td>\n",
       "    </tr>\n",
       "    <tr>\n",
       "      <th>58380</th>\n",
       "      <td>0.0</td>\n",
       "      <td>0.0</td>\n",
       "    </tr>\n",
       "    <tr>\n",
       "      <th>1870</th>\n",
       "      <td>400.0</td>\n",
       "      <td>1000.0</td>\n",
       "    </tr>\n",
       "    <tr>\n",
       "      <th>85173</th>\n",
       "      <td>1800.0</td>\n",
       "      <td>2000.0</td>\n",
       "    </tr>\n",
       "    <tr>\n",
       "      <th>58504</th>\n",
       "      <td>700.0</td>\n",
       "      <td>1000.0</td>\n",
       "    </tr>\n",
       "  </tbody>\n",
       "</table>\n",
       "</div>"
      ],
      "text/plain": [
       "       professional_goals_salary_min  professional_goals_salary_max\n",
       "id                                                                 \n",
       "577                            400.0                          750.0\n",
       "58380                            0.0                            0.0\n",
       "1870                           400.0                         1000.0\n",
       "85173                         1800.0                         2000.0\n",
       "58504                          700.0                         1000.0"
      ]
     },
     "execution_count": 8,
     "metadata": {},
     "output_type": "execute_result"
    }
   ],
   "source": [
    "treated_dataset[['professional_goals_salary_min', 'professional_goals_salary_max']].sample(5)"
   ]
  },
  {
   "cell_type": "markdown",
   "metadata": {},
   "source": [
    "### Professional Goals Contract Type Treat"
   ]
  },
  {
   "cell_type": "code",
   "execution_count": 15,
   "metadata": {},
   "outputs": [
    {
     "data": {
      "text/plain": [
       "array(['Nao Informado', 'Estagio', 'Efetivo - CLT', 'Outros',\n",
       "       'Temporario', 'Autonomo', 'Trainee', 'Cooperado',\n",
       "       'Prestador de Servicos (PJ)', 'Estgio', 'Efetivo  CLT'],\n",
       "      dtype=object)"
      ]
     },
     "execution_count": 15,
     "metadata": {},
     "output_type": "execute_result"
    }
   ],
   "source": [
    "raw_data['professional_goals_contract_type'].astype(str).apply(unidecode).unique()"
   ]
  },
  {
   "cell_type": "markdown",
   "metadata": {},
   "source": [
    "Necessario unificar termos com distancia de edição até 1 e incluir não informado nas situações com None"
   ]
  },
  {
   "cell_type": "code",
   "execution_count": 16,
   "metadata": {},
   "outputs": [],
   "source": [
    "swap_none_for_constant(raw_data, 'professional_goals_contract_type', \"Nao Informado\")"
   ]
  },
  {
   "cell_type": "code",
   "execution_count": 18,
   "metadata": {},
   "outputs": [
    {
     "data": {
      "text/plain": [
       "array(['Nao Informado', 'Estagio', 'Efetivo - CLT', 'Outros',\n",
       "       'Temporario', 'Autonomo', 'Trainee', 'Cooperado',\n",
       "       'Prestador de Servicos (PJ)', 'Estgio', 'Efetivo  CLT'],\n",
       "      dtype=object)"
      ]
     },
     "execution_count": 18,
     "metadata": {},
     "output_type": "execute_result"
    }
   ],
   "source": [
    "raw_data['professional_goals_contract_type'].astype(str).apply(unidecode).unique()"
   ]
  },
  {
   "cell_type": "code",
   "execution_count": 19,
   "metadata": {},
   "outputs": [],
   "source": [
    "core_contracts_types = ['Nao Informado', 'Estagio', 'Efetivo - CLT', 'Outros',\n",
    "       'Temporario', 'Autonomo', 'Trainee', 'Cooperado', 'Prestador de Servicos (PJ)']\n",
    "\n",
    "treated_dataset['professional_goals_contract_type'] = raw_data['professional_goals_contract_type'].astype(str).apply(unidecode)\n",
    "clean_contract_type = np.array(treated_dataset['professional_goals_contract_type'])\n",
    "\n",
    "for contract_type in core_contracts_types:\n",
    "    for i in range(0,len(clean_contract_type)):\n",
    "        if one_edit_apart(clean_contract_type[i], contract_type):\n",
    "            clean_contract_type[i] = contract_type\n",
    "\n",
    "treated_dataset['professional_goals_contract_type'] = clean_contract_type"
   ]
  },
  {
   "cell_type": "code",
   "execution_count": 20,
   "metadata": {},
   "outputs": [
    {
     "data": {
      "text/plain": [
       "array(['Nao Informado', 'Estagio', 'Efetivo - CLT', 'Outros',\n",
       "       'Temporario', 'Autonomo', 'Trainee', 'Cooperado',\n",
       "       'Prestador de Servicos (PJ)'], dtype=object)"
      ]
     },
     "execution_count": 20,
     "metadata": {},
     "output_type": "execute_result"
    }
   ],
   "source": [
    "treated_dataset['professional_goals_contract_type'].unique()"
   ]
  },
  {
   "cell_type": "markdown",
   "metadata": {},
   "source": [
    "### Professional Goals Working Hours"
   ]
  },
  {
   "cell_type": "code",
   "execution_count": 21,
   "metadata": {},
   "outputs": [
    {
     "data": {
      "text/plain": [
       "array(['Periodo Integral', 'Parcial manhas', 'Nao Informado',\n",
       "       'Parcial tardes', 'Parcial noites', 'Noturno', 'Perodo Integral',\n",
       "       'Parcial manhs'], dtype=object)"
      ]
     },
     "execution_count": 21,
     "metadata": {},
     "output_type": "execute_result"
    }
   ],
   "source": [
    "raw_data['professional_goals_working_hours'].astype(str).apply(unidecode).unique()"
   ]
  },
  {
   "cell_type": "code",
   "execution_count": 22,
   "metadata": {},
   "outputs": [],
   "source": [
    "swap_none_for_constant(raw_data, 'professional_goals_working_hours', \"Nao Informado\")"
   ]
  },
  {
   "cell_type": "code",
   "execution_count": 23,
   "metadata": {},
   "outputs": [],
   "source": [
    "core_working_hours = ['Periodo Integral', 'Parcial manhas', 'None', 'Parcial tardes',\n",
    "                       'Parcial noites', 'Noturno']"
   ]
  },
  {
   "cell_type": "code",
   "execution_count": 24,
   "metadata": {},
   "outputs": [],
   "source": [
    "treated_dataset['professional_goals_working_hours'] = raw_data['professional_goals_working_hours'].astype(str).apply(unidecode)\n",
    "clean_working_hours = np.array(treated_dataset['professional_goals_working_hours'])\n",
    "\n",
    "for working_hours in core_working_hours:\n",
    "    for i in range(0,len(clean_working_hours)):\n",
    "        if one_edit_apart(clean_working_hours[i], working_hours):\n",
    "            clean_working_hours[i] = working_hours\n",
    "\n",
    "treated_dataset['professional_goals_working_hours'] = clean_working_hours"
   ]
  },
  {
   "cell_type": "code",
   "execution_count": 25,
   "metadata": {},
   "outputs": [
    {
     "data": {
      "text/plain": [
       "array(['Periodo Integral', 'Parcial manhas', 'Nao Informado',\n",
       "       'Parcial tardes', 'Parcial noites', 'Noturno'], dtype=object)"
      ]
     },
     "execution_count": 25,
     "metadata": {},
     "output_type": "execute_result"
    }
   ],
   "source": [
    "treated_dataset['professional_goals_working_hours'].unique()"
   ]
  },
  {
   "cell_type": "markdown",
   "metadata": {},
   "source": [
    "### Location Treat"
   ]
  },
  {
   "cell_type": "code",
   "execution_count": null,
   "metadata": {},
   "outputs": [],
   "source": [
    "experimentation = raw_data.copy()\n",
    "experimentation['count'] = 1\n",
    "experimentation.groupby('location').sum().sort_values('count', ascending=False)"
   ]
  },
  {
   "cell_type": "code",
   "execution_count": null,
   "metadata": {},
   "outputs": [],
   "source": [
    "test_db = [ {'age':resume['age'], 'id': resume['id'], 'professional_goals_working_hours': resume['professional_goals_working_hours'], 'sex':resume['sex'], 'title': resume['title']} for resume in db]"
   ]
  },
  {
   "cell_type": "code",
   "execution_count": null,
   "metadata": {},
   "outputs": [],
   "source": [
    "test_db[0]"
   ]
  },
  {
   "cell_type": "code",
   "execution_count": null,
   "metadata": {},
   "outputs": [],
   "source": [
    "with open('treated_data.json', 'w') as outfile:\n",
    "    json.dump(test_db, outfile)"
   ]
  },
  {
   "cell_type": "code",
   "execution_count": null,
   "metadata": {},
   "outputs": [],
   "source": []
  }
 ],
 "metadata": {
  "kernelspec": {
   "display_name": "Python 3",
   "language": "python",
   "name": "python3"
  },
  "language_info": {
   "codemirror_mode": {
    "name": "ipython",
    "version": 3
   },
   "file_extension": ".py",
   "mimetype": "text/x-python",
   "name": "python",
   "nbconvert_exporter": "python",
   "pygments_lexer": "ipython3",
   "version": "3.7.0"
  }
 },
 "nbformat": 4,
 "nbformat_minor": 2
}
